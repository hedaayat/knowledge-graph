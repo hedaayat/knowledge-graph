{
 "cells": [
  {
   "cell_type": "markdown",
   "id": "5650f67d",
   "metadata": {},
   "source": [
    "# Knowledge graph with LangChain demonstration\n",
    "better to use a virtual environement not mess up with your other configurations."
   ]
  },
  {
   "cell_type": "markdown",
   "id": "ebf52f37",
   "metadata": {},
   "source": [
    "## Installing dependencies and modules\n",
    "we make sure we are updating pip and installing langchain and langchain-openai extension, we add support of .env files and we include wikipedia for the demo. "
   ]
  },
  {
   "cell_type": "code",
   "execution_count": 8,
   "id": "d79e633b",
   "metadata": {},
   "outputs": [
    {
     "name": "stdout",
     "output_type": "stream",
     "text": [
      "Note: you may need to restart the kernel to use updated packages.\n"
     ]
    },
    {
     "name": "stderr",
     "output_type": "stream",
     "text": [
      "WARNING: Ignoring invalid distribution ~ython-dotenv (c:\\Python312\\Lib\\site-packages)\n",
      "WARNING: Ignoring invalid distribution ~ython-dotenv (c:\\Python312\\Lib\\site-packages)\n"
     ]
    }
   ],
   "source": [
    "%pip install --quiet --user --upgrade openai langchain langchain-experimental langchain-openai python-dotenv pyvis wikipedia\n"
   ]
  },
  {
   "cell_type": "markdown",
   "id": "9712d865",
   "metadata": {},
   "source": [
    "## load API key and verify on which pythono we are running."
   ]
  },
  {
   "cell_type": "code",
   "execution_count": 9,
   "id": "9d82a180",
   "metadata": {},
   "outputs": [
    {
     "name": "stdout",
     "output_type": "stream",
     "text": [
      "c:\\Python312\\python.exe\n"
     ]
    }
   ],
   "source": [
    "from dotenv import load_dotenv\n",
    "import os\n",
    "import sys\n",
    "\n",
    "# Print the Python executable path\n",
    "print(sys.executable)\n",
    "\n",
    "# Load the .env file\n",
    "load_dotenv()\n",
    "# Get API key from environment variable \n",
    "# (make sure the key is present in .env file in the project directory)\n",
    "api_key = os.getenv(\"OPENAI_API_KEY\")"
   ]
  },
  {
   "cell_type": "code",
   "execution_count": 1,
   "id": "1a65d017",
   "metadata": {},
   "outputs": [],
   "source": [
    "from pyvis.network import Network\n",
    "import openai\n"
   ]
  },
  {
   "cell_type": "code",
   "execution_count": 11,
   "id": "c14be5d5",
   "metadata": {},
   "outputs": [
    {
     "data": {
      "text/plain": [
       "True"
      ]
     },
     "execution_count": 11,
     "metadata": {},
     "output_type": "execute_result"
    }
   ],
   "source": [
    "from pyvis.network import Network\n",
    "\n",
    "net = Network(height=\"1000px\", width=\"100%\", bgcolor=\"#222222\", font_color=\"white\", directed=True)\n",
    "\n",
    "# Noeuds\n",
    "net.add_node(\"Mohammad\", label=\"Mohammad\", title=\"Fondateur / CTO\", shape=\"ellipse\")\n",
    "net.add_node(\"Rayonnance Technologies\", shape=\"box\")\n",
    "net.add_node(\"Paris\", shape=\"dot\")\n",
    "net.add_node(\"Toronto\", shape=\"dot\")\n",
    "net.add_node(\"Vincent\", shape=\"ellipse\")\n",
    "net.add_node(\"Maxime\", shape=\"ellipse\")\n",
    "net.add_node(\"Harmonie\", shape=\"box\")\n",
    "net.add_node(\"MDM HMS\", shape=\"box\")\n",
    "net.add_node(\"Boutiques\", shape=\"box\")\n",
    "net.add_node(\"Flux de données\", shape=\"box\")\n",
    "net.add_node(\"Produit Retail\", shape=\"box\")\n",
    "net.add_node(\"France\", shape=\"dot\")\n",
    "net.add_node(\"2023\", shape=\"dot\")\n",
    "\n",
    "# Liens\n",
    "net.add_edge(\"Mohammad\", \"Rayonnance Technologies\", label=\"a fondé\")\n",
    "net.add_edge(\"Mohammad\", \"Paris\", label=\"basé à\")\n",
    "net.add_edge(\"Mohammad\", \"Toronto\", label=\"basé à\")\n",
    "net.add_edge(\"Mohammad\", \"Vincent\", label=\"travaille avec\")\n",
    "net.add_edge(\"Mohammad\", \"Maxime\", label=\"travaille avec\")\n",
    "net.add_edge(\"Harmonie\", \"Flux de données\", label=\"gère\")\n",
    "net.add_edge(\"Harmonie\", \"Boutiques\", label=\"utilisé dans\")\n",
    "net.add_edge(\"Harmonie\", \"Produit Retail\", label=\"intégré à\")\n",
    "net.add_edge(\"Produit Retail\", \"Mohammad\", label=\"piloté par\")\n",
    "net.add_edge(\"Produit Retail\", \"Harmonie\", label=\"implémente\")\n",
    "net.add_edge(\"Produit Retail\", \"France\", label=\"zone\")\n",
    "net.add_edge(\"Produit Retail\", \"2023\", label=\"année\")\n",
    "net.add_edge(\"Rayonnance Technologies\", \"Produit Retail\", label=\"développe\")\n",
    "net.add_edge(\"Paris\", \"France\", label=\"capital de\")\n",
    "net.add_edge(\"Maxime\", \"Paris\", label=\"basé à\")\n",
    "net.add_edge(\"Vincent\", \"MDM HMS\", label=\"développe\")\n",
    "\n",
    "# Save and open the graph in the browser\n",
    "net.save_graph(\"knowledge_graph_mohammad.html\")\n",
    "\n",
    "import webbrowser, os\n",
    "webbrowser.open(f\"file://{os.path.abspath('knowledge_graph_mohammad.html')}\")\n"
   ]
  },
  {
   "cell_type": "code",
   "execution_count": null,
   "id": "fa12487f",
   "metadata": {},
   "outputs": [],
   "source": [
    "\n",
    "client = openai.OpenAI(api_key=api_key)\n",
    "\n",
    "# Define the function schema (structured output)\n",
    "functions = [\n",
    "    {\n",
    "        \"name\": \"extract_knowledge_graph\",\n",
    "        \"description\": \"Extracts entities and relationships for a knowledge graph\",\n",
    "        \"parameters\": {\n",
    "            \"type\": \"object\",\n",
    "            \"properties\": {\n",
    "                \"entities\": {\n",
    "                    \"type\": \"array\",\n",
    "                    \"items\": {\n",
    "                        \"type\": \"object\",\n",
    "                        \"properties\": {\n",
    "                            \"id\": {\"type\": \"string\"},\n",
    "                            \"label\": {\"type\": \"string\"},\n",
    "                            \"type\": {\"type\": \"string\"},\n",
    "                        },\n",
    "                        \"required\": [\"id\", \"label\", \"type\"],\n",
    "                    }\n",
    "                },\n",
    "                \"relationships\": {\n",
    "                    \"type\": \"array\",\n",
    "                    \"items\": {\n",
    "                        \"type\": \"object\",\n",
    "                        \"properties\": {\n",
    "                            \"source\": {\"type\": \"string\"},\n",
    "                            \"target\": {\"type\": \"string\"},\n",
    "                            \"relation\": {\"type\": \"string\"},\n",
    "                        },\n",
    "                        \"required\": [\"source\", \"target\", \"relation\"],\n",
    "                    }\n",
    "                },\n",
    "            },\n",
    "            \"required\": [\"entities\", \"relationships\"],\n",
    "        },\n",
    "    }\n",
    "]\n",
    "\n",
    "# Sample input text\n",
    "text = \"\"\"\n",
    "Marie Curie discovered radium and polonium. She won the Nobel Prize in Physics in 1903. \n",
    "Marie Curie was born in Warsaw, Poland.\n",
    "Marie Curie was born on November 7, 1867.\n",
    "Maries Curie's husband, Pierre Curie, was also a physicist and won the Nobel Prize in Physics in 1903.\n",
    "Pierre Curie was born in Paris, France.\n",
    "Pierre Curie was born on May 15, 1859.\n",
    "\"\"\"\n",
    "t = \"\"\"\n",
    "Pierre Curie died on April 19, 1906.\n",
    "Pierre Curie was a French physicist who worked with Marie Curie on radioactivity.\n",
    "Pierre Curie and Marie Curie were married in 1895.\n",
    "Pierre Curie and Marie Curie had two daughters, Irène Joliot-Curie and Ève Curie.\n",
    "Pierre Curie and Marie Curie were both awarded the Nobel Prize in Physics in 1903 for their joint research on radioactivity.\n",
    "Pierre Curie and Marie Curie are both considered pioneers in the field of radioactivity.\n",
    "\n",
    "Albert Einstein developed the theory of relativity and won the Nobel Prize in Physics in 1921. \n",
    "Alan Turing is known for his work in computer science and artificial intelligence. \n",
    "Alan Turing was a key figure in the development of theoretical computer science and artificial intelligence.\n",
    "Alan Turing was also instrumental in breaking the Enigma code during World War II.\n",
    "Alan Turing was born in London, England.\n",
    "Alan Turing was born on June 23, 1912.\n",
    "Alan Turing died on June 7, 1954.\n",
    "Alan Turing was a British mathematician and logician.\n",
    "In second World War, Alan Turing worked at Bletchley Park, where he led the team that broke the Enigma code.\n",
    "Albert Einstein was born in Ulm, Germany.\n",
    "Albert Einstein was born on March 14, 1879.\n",
    "Albert Einstein died on April 18, 1955.\n",
    "In second World War, Albert Einstein worked on the Manhattan Project, which developed the atomic bomb.\n",
    "Albert Einstein was a German-born theoretical physicist who developed the theory of relativity.\n",
    "Second World War was a global war that lasted from 1939 to 1945.\n",
    "Alan Turing and Albert Einstein are both considered pioneers in their respective fields of computer science and theoretical physics.\n",
    "\n",
    "\"\"\"\n",
    "\n",
    "response = client.chat.completions.create(\n",
    "    model=\"gpt-4o\",\n",
    "    messages=[\n",
    "        {\"role\": \"system\", \"content\": \"You are an assistant that extracts knowledge graphs.\"},\n",
    "        {\"role\": \"user\", \"content\": text}\n",
    "    ],\n",
    "    functions=functions,\n",
    "    function_call={\"name\": \"extract_knowledge_graph\"}\n",
    ")\n",
    "\n",
    "# Extract the structured knowledge graph\n",
    "graph = response.choices[0].message.function_call.arguments\n",
    "# print(graph)\n",
    "\n",
    "# pretty print json\n",
    "import json \n",
    "print(json.dumps(json.loads(graph), indent=2))\n",
    "\n",
    "\n",
    "# Parse JSON output from the function call\n",
    "args = json.loads(response.choices[0].message.function_call.arguments)\n",
    "entities = args[\"entities\"]\n",
    "relationships = args[\"relationships\"]\n",
    "\n",
    "\n",
    "# Create and visualize graph with pyvis\n",
    "net = Network(height=\"1000px\", width=\"100%\", notebook=True, directed=True, bgcolor=\"#222222\", font_color=\"white\")\n",
    "net.set_options(\"\"\"\n",
    "        {\n",
    "            \"physics\": {\n",
    "                \"forceAtlas2Based\": {\n",
    "                    \"gravitationalConstant\": -100,\n",
    "                    \"centralGravity\": 0.01,\n",
    "                    \"springLength\": 200,\n",
    "                    \"springConstant\": 0.08\n",
    "                },\n",
    "                \"minVelocity\": 0.75,\n",
    "                \"solver\": \"forceAtlas2Based\"\n",
    "            }\n",
    "        }\n",
    "        \"\"\")\n",
    "for entity in entities:\n",
    "    net.add_node(entity[\"id\"], label=entity[\"label\"], title=entity[\"type\"])\n",
    "\n",
    "for rel in relationships:\n",
    "    net.add_edge(rel[\"source\"], rel[\"target\"], label=rel[\"relation\"])\n",
    "\n",
    "output_file = \"knowledge_graph_gpt.html\"\n",
    "net.show(output_file)\n",
    "\n",
    "import webbrowser\n",
    "webbrowser.open(f\"file://{os.path.abspath(output_file)}\")\n",
    "    \n"
   ]
  },
  {
   "cell_type": "markdown",
   "id": "4d2b0326",
   "metadata": {},
   "source": [
    "## Connect langchain to OpenAI gpt-4o for structured output."
   ]
  },
  {
   "cell_type": "code",
   "execution_count": 30,
   "id": "71114f6d",
   "metadata": {},
   "outputs": [],
   "source": [
    "from langchain_experimental.graph_transformers import LLMGraphTransformer\n",
    "from langchain_core.documents import Document\n",
    "from langchain_openai import ChatOpenAI\n",
    "\n",
    "llm = ChatOpenAI(temperature=0, model_name=\"gpt-4o\",)\n",
    "\n",
    "graph_transformer = LLMGraphTransformer(llm=llm)"
   ]
  },
  {
   "cell_type": "markdown",
   "id": "d252ef54",
   "metadata": {},
   "source": [
    "## access wikipedia and grab a few articles. \n",
    "here we had a problem with the page of Alber Camus ! impossible to load through his name ! se I use pageid."
   ]
  },
  {
   "cell_type": "code",
   "execution_count": 14,
   "id": "9435c832",
   "metadata": {},
   "outputs": [
    {
     "name": "stdout",
     "output_type": "stream",
     "text": [
      "Jean-Paul Charles Aymard Sartre (, US also ; French: [saʁtʁ]; 21 June 1905 – 15 April 1980) was a French philosopher, playwright, novelist, screenwriter, political activist, biographer, and literary critic, considered a leading figure in 20th-century French philosophy and Marxism. Sartre was one of the key figures in the philosophy of existentialism (and phenomenology). His work has influenced sociology, critical theory, post-colonial theory, and literary studies. He was awarded the 1964 Nobel P\n"
     ]
    }
   ],
   "source": [
    "# Importing the Wikipedia library\n",
    "import wikipedia\n",
    "\n",
    "# Read Wikipedia page for Jean-Paul Sartre\n",
    "sartre_summary = wikipedia.page(\"Jean-Paul Sartre\").content\n",
    "\n",
    "# save the summary to a file\n",
    "with open(\"wikipedia_sartre.txt\", \"w\", encoding=\"utf-8\") as f:\n",
    "    f.write(sartre_summary)\n",
    "\n",
    "print(sartre_summary[:500]) \n"
   ]
  },
  {
   "cell_type": "code",
   "execution_count": 15,
   "id": "54b09b76",
   "metadata": {},
   "outputs": [
    {
     "name": "stdout",
     "output_type": "stream",
     "text": [
      "Albert Camus ( ka-MOO; French: [albɛʁ kamy] ; 7 November 1913 – 4 January 1960) was a French philosopher, author, dramatist, journalist, world federalist, and political activist. He was the recipient of the 1957 Nobel Prize in Literature at the age of 44, the second-youngest recipient in history. His works include The Stranger, The Plague, The Myth of Sisyphus, The Fall and The Rebel.\n",
      "Camus was born in French Algeria to pied-noir parents. He spent his childhood in a poor neighbourhood and later \n"
     ]
    }
   ],
   "source": [
    "\n",
    "# Read Wikipedia page for Albert Camus\n",
    "pageids = wikipedia.search(\"Albert Camus\")\n",
    "if not pageids:\n",
    "    raise ValueError(\"No page found for Albert Camus\")\n",
    "# Albert Camus Page can not be retreivd !\n",
    "camus_summary = wikipedia.page(pageid=983).content\n",
    "\n",
    "# save the summary to a file\n",
    "with open(\"wikipedia_camus.txt\", \"w\", encoding=\"utf-8\") as f:\n",
    "    f.write(camus_summary)\n",
    "\n",
    "# Print the first 500 characters of the summaries\n",
    "print(camus_summary[:500])\n"
   ]
  },
  {
   "cell_type": "code",
   "execution_count": 28,
   "id": "85e01380",
   "metadata": {},
   "outputs": [
    {
     "name": "stdout",
     "output_type": "stream",
     "text": [
      "Game of Thrones is an American fantasy drama television series created by David Benioff and D. B. Weiss for HBO. It is an adaptation of A Song of Ice and Fire, a series of high fantasy novels by George R. R. Martin, the first of which is A Game of Thrones. The show premiered on HBO in the United States on April 17, 2011, and concluded on May 19, 2019, with 73 episodes broadcast over eight seasons.\n",
      "Set on the fictional continents of Westeros and Essos, Game of Thrones has a large ensemble cast an\n"
     ]
    }
   ],
   "source": [
    "\n",
    "# Read Wikipedia page for Game of Thrones\n",
    "got_summary = wikipedia.page(pageid=20715044).content\n",
    "\n",
    "# save the summary to a file\n",
    "with open(\"wikipedia_got.txt\", \"w\", encoding=\"utf-8\") as f:\n",
    "    f.write(got_summary)\n",
    "\n",
    "# Print the first 500 characters of the summaries\n",
    "print(got_summary[:500])\n"
   ]
  },
  {
   "cell_type": "markdown",
   "id": "fd50c8a0",
   "metadata": {},
   "source": [
    "## convert the text document to a graph\n",
    "here we use langchain transformers to extract a graph structured format of ourt text."
   ]
  },
  {
   "cell_type": "code",
   "execution_count": 31,
   "id": "90ce19ce",
   "metadata": {},
   "outputs": [],
   "source": [
    "documents = [Document(page_content=got_summary)]\n",
    "graph_documents = await graph_transformer.aconvert_to_graph_documents(documents)"
   ]
  },
  {
   "cell_type": "markdown",
   "id": "cde46957",
   "metadata": {},
   "source": [
    "## print the generated graph in text format"
   ]
  },
  {
   "cell_type": "code",
   "execution_count": 32,
   "id": "845aef7e",
   "metadata": {},
   "outputs": [
    {
     "name": "stdout",
     "output_type": "stream",
     "text": [
      "NODES:\n",
      "[{'id': 'Game Of Thrones', 'properties': {}, 'type': 'Television series'},\n",
      " {'id': 'David Benioff', 'properties': {}, 'type': 'Person'},\n",
      " {'id': 'D. B. Weiss', 'properties': {}, 'type': 'Person'},\n",
      " {'id': 'Hbo', 'properties': {}, 'type': 'Organization'},\n",
      " {'id': 'A Song Of Ice And Fire', 'properties': {}, 'type': 'Book series'},\n",
      " {'id': 'George R. R. Martin', 'properties': {}, 'type': 'Person'},\n",
      " {'id': 'A Game Of Thrones', 'properties': {}, 'type': 'Book'},\n",
      " {'id': 'Westeros', 'properties': {}, 'type': 'Fictional place'},\n",
      " {'id': 'Essos', 'properties': {}, 'type': 'Fictional place'},\n",
      " {'id': 'Iron Throne', 'properties': {}, 'type': 'Object'},\n",
      " {'id': 'Seven Kingdoms', 'properties': {}, 'type': 'Fictional place'},\n",
      " {'id': \"Night'S Watch\", 'properties': {}, 'type': 'Organization'},\n",
      " {'id': 'Eddard Stark', 'properties': {}, 'type': 'Character'},\n",
      " {'id': 'Catelyn Stark', 'properties': {}, 'type': 'Character'},\n",
      " {'id': 'Robb Stark', 'properties': {}, 'type': 'Character'},\n",
      " {'id': 'Sansa Stark', 'properties': {}, 'type': 'Character'},\n",
      " {'id': 'Arya Stark', 'properties': {}, 'type': 'Character'},\n",
      " {'id': 'Bran Stark', 'properties': {}, 'type': 'Character'},\n",
      " {'id': 'Jon Snow', 'properties': {}, 'type': 'Character'},\n",
      " {'id': 'Samwell Tarly', 'properties': {}, 'type': 'Character'},\n",
      " {'id': 'Jeor Mormont', 'properties': {}, 'type': 'Character'},\n",
      " {'id': 'Theon Greyjoy', 'properties': {}, 'type': 'Character'},\n",
      " {'id': 'Roose Bolton', 'properties': {}, 'type': 'Character'},\n",
      " {'id': 'Ramsay Snow', 'properties': {}, 'type': 'Character'},\n",
      " {'id': 'Talisa Maegyr', 'properties': {}, 'type': 'Character'},\n",
      " {'id': 'Gendry', 'properties': {}, 'type': 'Character'},\n",
      " {'id': \"Jaqen H'Ghar\", 'properties': {}, 'type': 'Character'},\n",
      " {'id': 'Brienne Of Tarth', 'properties': {}, 'type': 'Character'},\n",
      " {'id': 'Robert Baratheon', 'properties': {}, 'type': 'Character'},\n",
      " {'id': 'Cersei Lannister', 'properties': {}, 'type': 'Character'},\n",
      " {'id': 'Jaime Lannister', 'properties': {}, 'type': 'Character'},\n",
      " {'id': 'Tyrion Lannister', 'properties': {}, 'type': 'Character'},\n",
      " {'id': 'Shae', 'properties': {}, 'type': 'Character'},\n",
      " {'id': 'Bronn', 'properties': {}, 'type': 'Character'},\n",
      " {'id': 'Tywin Lannister', 'properties': {}, 'type': 'Character'},\n",
      " {'id': 'Joffrey Baratheon', 'properties': {}, 'type': 'Character'},\n",
      " {'id': 'Tommen Baratheon', 'properties': {}, 'type': 'Character'},\n",
      " {'id': 'Sandor Clegane', 'properties': {}, 'type': 'Character'},\n",
      " {'id': 'Petyr Baelish', 'properties': {}, 'type': 'Character'},\n",
      " {'id': 'Varys', 'properties': {}, 'type': 'Character'},\n",
      " {'id': 'Stannis Baratheon', 'properties': {}, 'type': 'Character'},\n",
      " {'id': 'Melisandre', 'properties': {}, 'type': 'Character'},\n",
      " {'id': 'Davos Seaworth', 'properties': {}, 'type': 'Character'},\n",
      " {'id': 'Margaery Tyrell', 'properties': {}, 'type': 'Character'},\n",
      " {'id': 'High Sparrow', 'properties': {}, 'type': 'Character'},\n",
      " {'id': 'Ellaria Sand', 'properties': {}, 'type': 'Character'},\n",
      " {'id': 'Viserys Targaryen', 'properties': {}, 'type': 'Character'},\n",
      " {'id': 'Daenerys Targaryen', 'properties': {}, 'type': 'Character'},\n",
      " {'id': 'Khal Drogo', 'properties': {}, 'type': 'Character'},\n",
      " {'id': 'Jorah Mormont', 'properties': {}, 'type': 'Character'},\n",
      " {'id': 'Missandei', 'properties': {}, 'type': 'Character'},\n",
      " {'id': 'Daario Naharis', 'properties': {}, 'type': 'Character'},\n",
      " {'id': 'Grey Worm', 'properties': {}, 'type': 'Character'},\n",
      " {'id': 'House Of The Dragon', 'properties': {}, 'type': 'Television series'},\n",
      " {'id': 'A Knight Of The Seven Kingdoms',\n",
      "  'properties': {},\n",
      "  'type': 'Television series'},\n",
      " {'id': \"Night'S Watch\", 'properties': {}, 'type': 'Organization'},\n",
      " {'id': 'Westeros', 'properties': {}, 'type': 'Fictional place'},\n",
      " {'id': 'Essos', 'properties': {}, 'type': 'Fictional place'},\n",
      " {'id': 'Iron Throne', 'properties': {}, 'type': 'Object'},\n",
      " {'id': 'Seven Kingdoms', 'properties': {}, 'type': 'Fictional place'},\n",
      " {'id': \"Night'S Watch\", 'properties': {}, 'type': 'Organization'},\n",
      " {'id': 'Eddard Stark', 'properties': {}, 'type': 'Character'},\n",
      " {'id': 'Catelyn Stark', 'properties': {}, 'type': 'Character'},\n",
      " {'id': 'Robb Stark', 'properties': {}, 'type': 'Character'},\n",
      " {'id': 'Sansa Stark', 'properties': {}, 'type': 'Character'},\n",
      " {'id': 'Arya Stark', 'properties': {}, 'type': 'Character'},\n",
      " {'id': 'Bran Stark', 'properties': {}, 'type': 'Character'},\n",
      " {'id': 'Jon Snow', 'properties': {}, 'type': 'Character'},\n",
      " {'id': 'Samwell Tarly', 'properties': {}, 'type': 'Character'},\n",
      " {'id': 'Jeor Mormont', 'properties': {}, 'type': 'Character'},\n",
      " {'id': 'Theon Greyjoy', 'properties': {}, 'type': 'Character'},\n",
      " {'id': 'Roose Bolton', 'properties': {}, 'type': 'Character'},\n",
      " {'id': 'Ramsay Snow', 'properties': {}, 'type': 'Character'},\n",
      " {'id': 'Talisa Maegyr', 'properties': {}, 'type': 'Character'},\n",
      " {'id': 'Gendry', 'properties': {}, 'type': 'Character'},\n",
      " {'id': \"Jaqen H'Ghar\", 'properties': {}, 'type': 'Character'},\n",
      " {'id': 'Brienne Of Tarth', 'properties': {}, 'type': 'Character'},\n",
      " {'id': 'Robert Baratheon', 'properties': {}, 'type': 'Character'},\n",
      " {'id': 'Cersei Lannister', 'properties': {}, 'type': 'Character'},\n",
      " {'id': 'Jaime Lannister', 'properties': {}, 'type': 'Character'},\n",
      " {'id': 'Tyrion Lannister', 'properties': {}, 'type': 'Character'},\n",
      " {'id': 'Shae', 'properties': {}, 'type': 'Character'},\n",
      " {'id': 'Bronn', 'properties': {}, 'type': 'Character'},\n",
      " {'id': 'Tywin Lannister', 'properties': {}, 'type': 'Character'},\n",
      " {'id': 'Joffrey Baratheon', 'properties': {}, 'type': 'Character'},\n",
      " {'id': 'Tommen Baratheon', 'properties': {}, 'type': 'Character'},\n",
      " {'id': 'Sandor Clegane', 'properties': {}, 'type': 'Character'},\n",
      " {'id': 'Petyr Baelish', 'properties': {}, 'type': 'Character'},\n",
      " {'id': 'Varys', 'properties': {}, 'type': 'Character'},\n",
      " {'id': 'Stannis Baratheon', 'properties': {}, 'type': 'Character'},\n",
      " {'id': 'Melisandre', 'properties': {}, 'type': 'Character'},\n",
      " {'id': 'Davos Seaworth', 'properties': {}, 'type': 'Character'},\n",
      " {'id': 'Margaery Tyrell', 'properties': {}, 'type': 'Character'},\n",
      " {'id': 'High Sparrow', 'properties': {}, 'type': 'Character'},\n",
      " {'id': 'Ellaria Sand', 'properties': {}, 'type': 'Character'},\n",
      " {'id': 'Viserys Targaryen', 'properties': {}, 'type': 'Character'},\n",
      " {'id': 'Daenerys Targaryen', 'properties': {}, 'type': 'Character'},\n",
      " {'id': 'Khal Drogo', 'properties': {}, 'type': 'Character'},\n",
      " {'id': 'Jorah Mormont', 'properties': {}, 'type': 'Character'},\n",
      " {'id': 'Missandei', 'properties': {}, 'type': 'Character'},\n",
      " {'id': 'Daario Naharis', 'properties': {}, 'type': 'Character'},\n",
      " {'id': 'Grey Worm', 'properties': {}, 'type': 'Character'},\n",
      " {'id': 'House Of The Dragon', 'properties': {}, 'type': 'Television series'},\n",
      " {'id': 'A Knight Of The Seven Kingdoms',\n",
      "  'properties': {},\n",
      "  'type': 'Television series'}]\n",
      "\n",
      "RELATIONSHIPS:\n",
      "[{'source': 'Game Of Thrones', 'target': 'David Benioff', 'type': 'CREATOR'},\n",
      " {'source': 'Game Of Thrones', 'target': 'D. B. Weiss', 'type': 'CREATOR'},\n",
      " {'source': 'Game Of Thrones', 'target': 'Hbo', 'type': 'BROADCASTER'},\n",
      " {'source': 'Game Of Thrones',\n",
      "  'target': 'A Song Of Ice And Fire',\n",
      "  'type': 'ADAPTATION_OF'},\n",
      " {'source': 'A Song Of Ice And Fire',\n",
      "  'target': 'George R. R. Martin',\n",
      "  'type': 'AUTHOR'},\n",
      " {'source': 'A Song Of Ice And Fire',\n",
      "  'target': 'A Game Of Thrones',\n",
      "  'type': 'INCLUDES'},\n",
      " {'source': 'Game Of Thrones', 'target': 'Westeros', 'type': 'SETTING'},\n",
      " {'source': 'Game Of Thrones', 'target': 'Essos', 'type': 'SETTING'},\n",
      " {'source': 'Game Of Thrones', 'target': 'Iron Throne', 'type': 'FOCUS'},\n",
      " {'source': 'Game Of Thrones', 'target': 'Seven Kingdoms', 'type': 'SETTING'},\n",
      " {'source': 'Game Of Thrones', 'target': \"Night'S Watch\", 'type': 'FEATURES'},\n",
      " {'source': 'Eddard Stark', 'target': 'Catelyn Stark', 'type': 'SPOUSE'},\n",
      " {'source': 'Eddard Stark', 'target': 'Robb Stark', 'type': 'PARENT'},\n",
      " {'source': 'Eddard Stark', 'target': 'Sansa Stark', 'type': 'PARENT'},\n",
      " {'source': 'Eddard Stark', 'target': 'Arya Stark', 'type': 'PARENT'},\n",
      " {'source': 'Eddard Stark', 'target': 'Bran Stark', 'type': 'PARENT'},\n",
      " {'source': 'Eddard Stark', 'target': 'Jon Snow', 'type': 'PARENT'},\n",
      " {'source': 'Jon Snow', 'target': 'Samwell Tarly', 'type': 'FRIEND'},\n",
      " {'source': 'Samwell Tarly', 'target': 'Jeor Mormont', 'type': 'SERVES_UNDER'},\n",
      " {'source': 'Theon Greyjoy', 'target': 'Eddard Stark', 'type': 'WARD'},\n",
      " {'source': 'Roose Bolton', 'target': 'Ramsay Snow', 'type': 'PARENT'},\n",
      " {'source': 'Robb Stark', 'target': 'Talisa Maegyr', 'type': 'ASSOCIATE'},\n",
      " {'source': 'Arya Stark', 'target': 'Gendry', 'type': 'FRIEND'},\n",
      " {'source': 'Arya Stark', 'target': \"Jaqen H'Ghar\", 'type': 'FRIEND'},\n",
      " {'source': 'Brienne Of Tarth', 'target': 'Catelyn Stark', 'type': 'ASSOCIATE'},\n",
      " {'source': 'Robert Baratheon', 'target': 'Cersei Lannister', 'type': 'SPOUSE'},\n",
      " {'source': 'Cersei Lannister', 'target': 'Jaime Lannister', 'type': 'SIBLING'},\n",
      " {'source': 'Cersei Lannister',\n",
      "  'target': 'Tyrion Lannister',\n",
      "  'type': 'SIBLING'},\n",
      " {'source': 'Tyrion Lannister', 'target': 'Shae', 'type': 'ASSOCIATE'},\n",
      " {'source': 'Tyrion Lannister', 'target': 'Bronn', 'type': 'ASSOCIATE'},\n",
      " {'source': 'Cersei Lannister', 'target': 'Tywin Lannister', 'type': 'PARENT'},\n",
      " {'source': 'Cersei Lannister',\n",
      "  'target': 'Joffrey Baratheon',\n",
      "  'type': 'PARENT'},\n",
      " {'source': 'Cersei Lannister', 'target': 'Tommen Baratheon', 'type': 'PARENT'},\n",
      " {'source': 'Joffrey Baratheon', 'target': 'Sandor Clegane', 'type': 'GUARD'},\n",
      " {'source': 'Robert Baratheon', 'target': 'Petyr Baelish', 'type': 'ASSOCIATE'},\n",
      " {'source': 'Robert Baratheon', 'target': 'Varys', 'type': 'ASSOCIATE'},\n",
      " {'source': 'Stannis Baratheon', 'target': 'Melisandre', 'type': 'ADVISOR'},\n",
      " {'source': 'Stannis Baratheon', 'target': 'Davos Seaworth', 'type': 'ADVISOR'},\n",
      " {'source': 'Margaery Tyrell', 'target': 'Cersei Lannister', 'type': 'RIVAL'},\n",
      " {'source': 'High Sparrow', 'target': 'Cersei Lannister', 'type': 'RIVAL'},\n",
      " {'source': 'Ellaria Sand', 'target': 'Lannisters', 'type': 'ENEMY'},\n",
      " {'source': 'Viserys Targaryen',\n",
      "  'target': 'Daenerys Targaryen',\n",
      "  'type': 'SIBLING'},\n",
      " {'source': 'Daenerys Targaryen', 'target': 'Khal Drogo', 'type': 'SPOUSE'},\n",
      " {'source': 'Daenerys Targaryen',\n",
      "  'target': 'Jorah Mormont',\n",
      "  'type': 'ASSOCIATE'},\n",
      " {'source': 'Daenerys Targaryen', 'target': 'Missandei', 'type': 'ASSOCIATE'},\n",
      " {'source': 'Daenerys Targaryen',\n",
      "  'target': 'Daario Naharis',\n",
      "  'type': 'ASSOCIATE'},\n",
      " {'source': 'Daenerys Targaryen', 'target': 'Grey Worm', 'type': 'ASSOCIATE'},\n",
      " {'source': 'Game Of Thrones',\n",
      "  'target': 'House Of The Dragon',\n",
      "  'type': 'PREQUEL'},\n",
      " {'source': 'Game Of Thrones',\n",
      "  'target': 'A Knight Of The Seven Kingdoms',\n",
      "  'type': 'PREQUEL'}]\n"
     ]
    }
   ],
   "source": [
    "from pprint import pprint\n",
    "\n",
    "# For displaying nodes\n",
    "print(\"NODES:\")\n",
    "pprint([{\"id\": node.id, \"type\": node.type, \"properties\": node.properties} for node in graph_documents[0].nodes])\n",
    "\n",
    "# For displaying relationships\n",
    "print(\"\\nRELATIONSHIPS:\")\n",
    "pprint([{\n",
    "    \"source\": rel.source.id,\n",
    "    \"type\": rel.type,\n",
    "    \"target\": rel.target.id\n",
    "} for rel in graph_documents[0].relationships])"
   ]
  },
  {
   "cell_type": "markdown",
   "id": "b659255d",
   "metadata": {},
   "source": [
    "# using pyvis draw the graph\n",
    "## here we introduce a function to display the graph ina nice interactive html."
   ]
  },
  {
   "cell_type": "code",
   "execution_count": 33,
   "id": "beeddf22",
   "metadata": {},
   "outputs": [],
   "source": [
    "from pyvis.network import Network\n",
    "\n",
    "def visualize_graph(graph_documents, output_file=\"knowledge_graph.html\"):\n",
    "    # Create network\n",
    "    net = Network(height=\"1200px\", width=\"100%\", directed=True,\n",
    "                      notebook=False, bgcolor=\"#222222\", font_color=\"white\")\n",
    "    \n",
    "    nodes = graph_documents[0].nodes\n",
    "    relationships = graph_documents[0].relationships\n",
    "\n",
    "    # Build lookup for valid nodes\n",
    "    node_dict = {node.id: node for node in nodes}\n",
    "    \n",
    "    # Filter out invalid edges and collect valid node IDs\n",
    "    valid_edges = []\n",
    "    valid_node_ids = set()\n",
    "    for rel in relationships:\n",
    "        if rel.source.id in node_dict and rel.target.id in node_dict:\n",
    "            valid_edges.append(rel)\n",
    "            valid_node_ids.update([rel.source.id, rel.target.id])\n",
    "\n",
    "\n",
    "    # Track which nodes are part of any relationship\n",
    "    connected_node_ids = set()\n",
    "    for rel in relationships:\n",
    "        connected_node_ids.add(rel.source.id)\n",
    "        connected_node_ids.add(rel.target.id)\n",
    "\n",
    "    # Add valid nodes\n",
    "    for node_id in valid_node_ids:\n",
    "        node = node_dict[node_id]\n",
    "        try:\n",
    "            net.add_node(node.id, label=node.id, title=node.type, group=node.type)\n",
    "        except:\n",
    "            continue  # skip if error\n",
    "\n",
    "    # Add valid edges\n",
    "    for rel in valid_edges:\n",
    "        try:\n",
    "            net.add_edge(rel.source.id, rel.target.id, label=rel.type.lower())\n",
    "        except:\n",
    "            continue  # skip if error\n",
    "\n",
    "    # Configure physics\n",
    "    net.set_options(\"\"\"\n",
    "            {\n",
    "                \"physics\": {\n",
    "                    \"forceAtlas2Based\": {\n",
    "                        \"gravitationalConstant\": -100,\n",
    "                        \"centralGravity\": 0.01,\n",
    "                        \"springLength\": 200,\n",
    "                        \"springConstant\": 0.08\n",
    "                    },\n",
    "                    \"minVelocity\": 0.75,\n",
    "                    \"solver\": \"forceAtlas2Based\"\n",
    "                }\n",
    "            }\n",
    "            \"\"\")\n",
    "        \n",
    "    net.save_graph(output_file)\n",
    "    print(f\"Graph saved to {os.path.abspath(output_file)}\")\n",
    "\n",
    "    # Try to open in browser\n",
    "    try:\n",
    "        import webbrowser\n",
    "        webbrowser.open(f\"file://{os.path.abspath(output_file)}\")\n",
    "    except:\n",
    "        print(\"Could not open browser automatically\")\n"
   ]
  },
  {
   "cell_type": "markdown",
   "id": "ab4bbe03",
   "metadata": {},
   "source": [
    "## use the function to draw the graph"
   ]
  },
  {
   "cell_type": "code",
   "execution_count": 34,
   "id": "900415f2",
   "metadata": {},
   "outputs": [
    {
     "name": "stdout",
     "output_type": "stream",
     "text": [
      "Graph saved to d:\\Users\\makbar\\OneDrive - Rayonnance Technologies\\0.Rayonnance\\0.AI\\knowledge-graph\\knowledge_graph.html\n"
     ]
    }
   ],
   "source": [
    "        \n",
    "# Run the function\n",
    "visualize_graph(graph_documents)"
   ]
  },
  {
   "cell_type": "markdown",
   "id": "7512e41f",
   "metadata": {},
   "source": [
    "## adding filters for nodes and relationships of interest"
   ]
  },
  {
   "cell_type": "code",
   "execution_count": 50,
   "id": "48344a01",
   "metadata": {},
   "outputs": [],
   "source": [
    "allowed_nodes = [\"Person\", \"Location\", \"Award\", \"BornIn\", \"Organization\", \"ResearchField\"]\n",
    "allowed_relationships = [\n",
    "    (\"Person\", \"WORKS_AT\", \"Organization\"),\n",
    "    (\"Person\", \"SPOUSE\", \"Person\"),\n",
    "    (\"Person\", \"AWARD\", \"Award\"),\n",
    "    (\"Organization\", \"IN_LOCATION\", \"Location\"),\n",
    "    (\"Person\", \"FIELD_OF_RESEARCH\", \"ResearchField\")\n",
    "]\n",
    "graph_transformer_rel_defined = LLMGraphTransformer(\n",
    "  llm=llm,\n",
    "  allowed_nodes=allowed_nodes,\n",
    "  allowed_relationships=allowed_relationships\n",
    ")\n",
    "graph_documents_rel_defined = await graph_transformer_rel_defined.aconvert_to_graph_documents(documents)"
   ]
  },
  {
   "cell_type": "markdown",
   "id": "ae4a1a55",
   "metadata": {},
   "source": [
    "## drawing filtered network"
   ]
  },
  {
   "cell_type": "code",
   "execution_count": 51,
   "id": "877955a7",
   "metadata": {},
   "outputs": [
    {
     "name": "stdout",
     "output_type": "stream",
     "text": [
      "Graph saved to d:\\Users\\makbar\\OneDrive - Rayonnance Technologies\\0.Rayonnance\\0.AI\\knowledge-graph\\knowledge_graph_restricted.html\n"
     ]
    }
   ],
   "source": [
    "# Visualize graph\n",
    "visualize_graph(graph_documents_rel_defined, output_file=\"knowledge_graph_restricted.html\")"
   ]
  }
 ],
 "metadata": {
  "kernelspec": {
   "display_name": "Python 3",
   "language": "python",
   "name": "python3"
  },
  "language_info": {
   "codemirror_mode": {
    "name": "ipython",
    "version": 3
   },
   "file_extension": ".py",
   "mimetype": "text/x-python",
   "name": "python",
   "nbconvert_exporter": "python",
   "pygments_lexer": "ipython3",
   "version": "3.12.10"
  }
 },
 "nbformat": 4,
 "nbformat_minor": 5
}
