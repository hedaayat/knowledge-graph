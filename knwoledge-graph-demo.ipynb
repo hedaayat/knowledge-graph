{
 "cells": [
  {
   "cell_type": "markdown",
   "id": "5650f67d",
   "metadata": {},
   "source": [
    "# Knowledge graph with LangChain demonstration\n",
    "better to use a virtual environement not mess up with your other configurations."
   ]
  },
  {
   "cell_type": "markdown",
   "id": "ebf52f37",
   "metadata": {},
   "source": [
    "## Installing dependencies and modules\n",
    "we make sure we are updating pip and installing langchain and langchain-openai extension, we add support of .env files and we include wikipedia for the demo. "
   ]
  },
  {
   "cell_type": "code",
   "execution_count": 43,
   "id": "d79e633b",
   "metadata": {},
   "outputs": [
    {
     "name": "stdout",
     "output_type": "stream",
     "text": [
      "Requirement already satisfied: langchain in c:\\users\\makbar\\appdata\\roaming\\python\\python312\\site-packages (0.3.25)\n",
      "Requirement already satisfied: langchain-experimental in c:\\users\\makbar\\appdata\\roaming\\python\\python312\\site-packages (0.3.4)\n",
      "Requirement already satisfied: langchain-openai in c:\\users\\makbar\\appdata\\roaming\\python\\python312\\site-packages (0.3.18)\n",
      "Requirement already satisfied: python-dotenv in c:\\users\\makbar\\appdata\\roaming\\python\\python312\\site-packages (1.1.0)\n",
      "Requirement already satisfied: pyvis in c:\\users\\makbar\\appdata\\roaming\\python\\python312\\site-packages (0.3.2)\n",
      "Requirement already satisfied: wikipedia in c:\\python312\\lib\\site-packages (1.4.0)\n",
      "Requirement already satisfied: langchain-core<1.0.0,>=0.3.58 in c:\\users\\makbar\\appdata\\roaming\\python\\python312\\site-packages (from langchain) (0.3.63)\n",
      "Requirement already satisfied: langchain-text-splitters<1.0.0,>=0.3.8 in c:\\users\\makbar\\appdata\\roaming\\python\\python312\\site-packages (from langchain) (0.3.8)\n",
      "Requirement already satisfied: langsmith<0.4,>=0.1.17 in c:\\users\\makbar\\appdata\\roaming\\python\\python312\\site-packages (from langchain) (0.3.43)\n",
      "Requirement already satisfied: pydantic<3.0.0,>=2.7.4 in c:\\python312\\lib\\site-packages (from langchain) (2.10.6)\n",
      "Requirement already satisfied: SQLAlchemy<3,>=1.4 in c:\\python312\\lib\\site-packages (from langchain) (2.0.37)\n",
      "Requirement already satisfied: requests<3,>=2 in c:\\python312\\lib\\site-packages (from langchain) (2.32.3)\n",
      "Requirement already satisfied: PyYAML>=5.3 in c:\\python312\\lib\\site-packages (from langchain) (6.0.2)\n",
      "Requirement already satisfied: tenacity!=8.4.0,<10.0.0,>=8.1.0 in c:\\python312\\lib\\site-packages (from langchain-core<1.0.0,>=0.3.58->langchain) (9.1.2)\n",
      "Requirement already satisfied: jsonpatch<2.0,>=1.33 in c:\\users\\makbar\\appdata\\roaming\\python\\python312\\site-packages (from langchain-core<1.0.0,>=0.3.58->langchain) (1.33)\n",
      "Requirement already satisfied: packaging<25,>=23.2 in c:\\python312\\lib\\site-packages (from langchain-core<1.0.0,>=0.3.58->langchain) (24.2)\n",
      "Requirement already satisfied: typing-extensions>=4.7 in c:\\python312\\lib\\site-packages (from langchain-core<1.0.0,>=0.3.58->langchain) (4.12.2)\n",
      "Requirement already satisfied: jsonpointer>=1.9 in c:\\users\\makbar\\appdata\\roaming\\python\\python312\\site-packages (from jsonpatch<2.0,>=1.33->langchain-core<1.0.0,>=0.3.58->langchain) (3.0.0)\n",
      "Requirement already satisfied: httpx<1,>=0.23.0 in c:\\python312\\lib\\site-packages (from langsmith<0.4,>=0.1.17->langchain) (0.28.1)\n",
      "Requirement already satisfied: orjson<4.0.0,>=3.9.14 in c:\\users\\makbar\\appdata\\roaming\\python\\python312\\site-packages (from langsmith<0.4,>=0.1.17->langchain) (3.10.18)\n",
      "Requirement already satisfied: requests-toolbelt<2.0.0,>=1.0.0 in c:\\users\\makbar\\appdata\\roaming\\python\\python312\\site-packages (from langsmith<0.4,>=0.1.17->langchain) (1.0.0)\n",
      "Requirement already satisfied: zstandard<0.24.0,>=0.23.0 in c:\\python312\\lib\\site-packages (from langsmith<0.4,>=0.1.17->langchain) (0.23.0)\n",
      "Requirement already satisfied: anyio in c:\\python312\\lib\\site-packages (from httpx<1,>=0.23.0->langsmith<0.4,>=0.1.17->langchain) (4.8.0)\n",
      "Requirement already satisfied: certifi in c:\\python312\\lib\\site-packages (from httpx<1,>=0.23.0->langsmith<0.4,>=0.1.17->langchain) (2024.12.14)\n",
      "Requirement already satisfied: httpcore==1.* in c:\\python312\\lib\\site-packages (from httpx<1,>=0.23.0->langsmith<0.4,>=0.1.17->langchain) (1.0.7)\n",
      "Requirement already satisfied: idna in c:\\python312\\lib\\site-packages (from httpx<1,>=0.23.0->langsmith<0.4,>=0.1.17->langchain) (3.10)\n",
      "Requirement already satisfied: h11<0.15,>=0.13 in c:\\python312\\lib\\site-packages (from httpcore==1.*->httpx<1,>=0.23.0->langsmith<0.4,>=0.1.17->langchain) (0.14.0)\n",
      "Requirement already satisfied: annotated-types>=0.6.0 in c:\\python312\\lib\\site-packages (from pydantic<3.0.0,>=2.7.4->langchain) (0.7.0)\n",
      "Requirement already satisfied: pydantic-core==2.27.2 in c:\\python312\\lib\\site-packages (from pydantic<3.0.0,>=2.7.4->langchain) (2.27.2)\n",
      "Requirement already satisfied: charset-normalizer<4,>=2 in c:\\python312\\lib\\site-packages (from requests<3,>=2->langchain) (3.4.1)\n",
      "Requirement already satisfied: urllib3<3,>=1.21.1 in c:\\python312\\lib\\site-packages (from requests<3,>=2->langchain) (2.3.0)\n",
      "Requirement already satisfied: greenlet!=0.4.17 in c:\\python312\\lib\\site-packages (from SQLAlchemy<3,>=1.4->langchain) (3.1.1)\n",
      "Requirement already satisfied: langchain-community<0.4.0,>=0.3.0 in c:\\users\\makbar\\appdata\\roaming\\python\\python312\\site-packages (from langchain-experimental) (0.3.24)\n",
      "Requirement already satisfied: aiohttp<4.0.0,>=3.8.3 in c:\\users\\makbar\\appdata\\roaming\\python\\python312\\site-packages (from langchain-community<0.4.0,>=0.3.0->langchain-experimental) (3.12.6)\n",
      "Requirement already satisfied: dataclasses-json<0.7,>=0.5.7 in c:\\users\\makbar\\appdata\\roaming\\python\\python312\\site-packages (from langchain-community<0.4.0,>=0.3.0->langchain-experimental) (0.6.7)\n",
      "Requirement already satisfied: pydantic-settings<3.0.0,>=2.4.0 in c:\\python312\\lib\\site-packages (from langchain-community<0.4.0,>=0.3.0->langchain-experimental) (2.7.1)\n",
      "Requirement already satisfied: httpx-sse<1.0.0,>=0.4.0 in c:\\users\\makbar\\appdata\\roaming\\python\\python312\\site-packages (from langchain-community<0.4.0,>=0.3.0->langchain-experimental) (0.4.0)\n",
      "Requirement already satisfied: numpy>=1.26.2 in c:\\python312\\lib\\site-packages (from langchain-community<0.4.0,>=0.3.0->langchain-experimental) (1.26.4)\n",
      "Requirement already satisfied: aiohappyeyeballs>=2.5.0 in c:\\users\\makbar\\appdata\\roaming\\python\\python312\\site-packages (from aiohttp<4.0.0,>=3.8.3->langchain-community<0.4.0,>=0.3.0->langchain-experimental) (2.6.1)\n",
      "Requirement already satisfied: aiosignal>=1.1.2 in c:\\users\\makbar\\appdata\\roaming\\python\\python312\\site-packages (from aiohttp<4.0.0,>=3.8.3->langchain-community<0.4.0,>=0.3.0->langchain-experimental) (1.3.2)\n",
      "Requirement already satisfied: attrs>=17.3.0 in c:\\users\\makbar\\appdata\\roaming\\python\\python312\\site-packages (from aiohttp<4.0.0,>=3.8.3->langchain-community<0.4.0,>=0.3.0->langchain-experimental) (25.3.0)\n",
      "Requirement already satisfied: frozenlist>=1.1.1 in c:\\users\\makbar\\appdata\\roaming\\python\\python312\\site-packages (from aiohttp<4.0.0,>=3.8.3->langchain-community<0.4.0,>=0.3.0->langchain-experimental) (1.6.0)\n",
      "Requirement already satisfied: multidict<7.0,>=4.5 in c:\\users\\makbar\\appdata\\roaming\\python\\python312\\site-packages (from aiohttp<4.0.0,>=3.8.3->langchain-community<0.4.0,>=0.3.0->langchain-experimental) (6.4.4)\n",
      "Requirement already satisfied: propcache>=0.2.0 in c:\\users\\makbar\\appdata\\roaming\\python\\python312\\site-packages (from aiohttp<4.0.0,>=3.8.3->langchain-community<0.4.0,>=0.3.0->langchain-experimental) (0.3.1)\n",
      "Requirement already satisfied: yarl<2.0,>=1.17.0 in c:\\users\\makbar\\appdata\\roaming\\python\\python312\\site-packages (from aiohttp<4.0.0,>=3.8.3->langchain-community<0.4.0,>=0.3.0->langchain-experimental) (1.20.0)\n",
      "Requirement already satisfied: marshmallow<4.0.0,>=3.18.0 in c:\\users\\makbar\\appdata\\roaming\\python\\python312\\site-packages (from dataclasses-json<0.7,>=0.5.7->langchain-community<0.4.0,>=0.3.0->langchain-experimental) (3.26.1)\n",
      "Requirement already satisfied: typing-inspect<1,>=0.4.0 in c:\\users\\makbar\\appdata\\roaming\\python\\python312\\site-packages (from dataclasses-json<0.7,>=0.5.7->langchain-community<0.4.0,>=0.3.0->langchain-experimental) (0.9.0)\n",
      "Requirement already satisfied: mypy-extensions>=0.3.0 in c:\\users\\makbar\\appdata\\roaming\\python\\python312\\site-packages (from typing-inspect<1,>=0.4.0->dataclasses-json<0.7,>=0.5.7->langchain-community<0.4.0,>=0.3.0->langchain-experimental) (1.1.0)\n",
      "Requirement already satisfied: openai<2.0.0,>=1.68.2 in c:\\users\\makbar\\appdata\\roaming\\python\\python312\\site-packages (from langchain-openai) (1.82.1)\n",
      "Requirement already satisfied: tiktoken<1,>=0.7 in c:\\python312\\lib\\site-packages (from langchain-openai) (0.8.0)\n",
      "Requirement already satisfied: distro<2,>=1.7.0 in c:\\python312\\lib\\site-packages (from openai<2.0.0,>=1.68.2->langchain-openai) (1.9.0)\n",
      "Requirement already satisfied: jiter<1,>=0.4.0 in c:\\python312\\lib\\site-packages (from openai<2.0.0,>=1.68.2->langchain-openai) (0.8.2)\n",
      "Requirement already satisfied: sniffio in c:\\python312\\lib\\site-packages (from openai<2.0.0,>=1.68.2->langchain-openai) (1.3.1)\n",
      "Requirement already satisfied: tqdm>4 in c:\\python312\\lib\\site-packages (from openai<2.0.0,>=1.68.2->langchain-openai) (4.67.1)\n",
      "Requirement already satisfied: regex>=2022.1.18 in c:\\python312\\lib\\site-packages (from tiktoken<1,>=0.7->langchain-openai) (2024.11.6)\n",
      "Requirement already satisfied: ipython>=5.3.0 in c:\\users\\makbar\\appdata\\roaming\\python\\python312\\site-packages (from pyvis) (9.2.0)\n",
      "Requirement already satisfied: jinja2>=2.9.6 in c:\\users\\makbar\\appdata\\roaming\\python\\python312\\site-packages (from pyvis) (3.1.6)\n",
      "Requirement already satisfied: jsonpickle>=1.4.1 in c:\\users\\makbar\\appdata\\roaming\\python\\python312\\site-packages (from pyvis) (4.1.0)\n",
      "Requirement already satisfied: networkx>=1.11 in c:\\users\\makbar\\appdata\\roaming\\python\\python312\\site-packages (from pyvis) (3.5)\n",
      "Requirement already satisfied: beautifulsoup4 in c:\\python312\\lib\\site-packages (from wikipedia) (4.12.3)\n",
      "Requirement already satisfied: colorama in c:\\python312\\lib\\site-packages (from ipython>=5.3.0->pyvis) (0.4.6)\n",
      "Requirement already satisfied: decorator in c:\\users\\makbar\\appdata\\roaming\\python\\python312\\site-packages (from ipython>=5.3.0->pyvis) (5.2.1)\n",
      "Requirement already satisfied: ipython-pygments-lexers in c:\\users\\makbar\\appdata\\roaming\\python\\python312\\site-packages (from ipython>=5.3.0->pyvis) (1.1.1)\n",
      "Requirement already satisfied: jedi>=0.16 in c:\\users\\makbar\\appdata\\roaming\\python\\python312\\site-packages (from ipython>=5.3.0->pyvis) (0.19.2)\n",
      "Requirement already satisfied: matplotlib-inline in c:\\users\\makbar\\appdata\\roaming\\python\\python312\\site-packages (from ipython>=5.3.0->pyvis) (0.1.7)\n",
      "Requirement already satisfied: prompt_toolkit<3.1.0,>=3.0.41 in c:\\users\\makbar\\appdata\\roaming\\python\\python312\\site-packages (from ipython>=5.3.0->pyvis) (3.0.51)\n",
      "Requirement already satisfied: pygments>=2.4.0 in c:\\python312\\lib\\site-packages (from ipython>=5.3.0->pyvis) (2.19.1)\n",
      "Requirement already satisfied: stack_data in c:\\users\\makbar\\appdata\\roaming\\python\\python312\\site-packages (from ipython>=5.3.0->pyvis) (0.6.3)\n",
      "Requirement already satisfied: traitlets>=5.13.0 in c:\\users\\makbar\\appdata\\roaming\\python\\python312\\site-packages (from ipython>=5.3.0->pyvis) (5.14.3)\n",
      "Requirement already satisfied: wcwidth in c:\\users\\makbar\\appdata\\roaming\\python\\python312\\site-packages (from prompt_toolkit<3.1.0,>=3.0.41->ipython>=5.3.0->pyvis) (0.2.13)\n",
      "Requirement already satisfied: parso<0.9.0,>=0.8.4 in c:\\users\\makbar\\appdata\\roaming\\python\\python312\\site-packages (from jedi>=0.16->ipython>=5.3.0->pyvis) (0.8.4)\n",
      "Requirement already satisfied: MarkupSafe>=2.0 in c:\\python312\\lib\\site-packages (from jinja2>=2.9.6->pyvis) (3.0.2)\n",
      "Requirement already satisfied: soupsieve>1.2 in c:\\python312\\lib\\site-packages (from beautifulsoup4->wikipedia) (2.6)\n",
      "Requirement already satisfied: executing>=1.2.0 in c:\\users\\makbar\\appdata\\roaming\\python\\python312\\site-packages (from stack_data->ipython>=5.3.0->pyvis) (2.2.0)\n",
      "Requirement already satisfied: asttokens>=2.1.0 in c:\\users\\makbar\\appdata\\roaming\\python\\python312\\site-packages (from stack_data->ipython>=5.3.0->pyvis) (3.0.0)\n",
      "Requirement already satisfied: pure-eval in c:\\users\\makbar\\appdata\\roaming\\python\\python312\\site-packages (from stack_data->ipython>=5.3.0->pyvis) (0.2.3)\n",
      "Note: you may need to restart the kernel to use updated packages.\n"
     ]
    },
    {
     "name": "stderr",
     "output_type": "stream",
     "text": [
      "WARNING: Ignoring invalid distribution ~ython-dotenv (c:\\Python312\\Lib\\site-packages)\n",
      "WARNING: Ignoring invalid distribution ~ython-dotenv (c:\\Python312\\Lib\\site-packages)\n"
     ]
    }
   ],
   "source": [
    "%pip install --user --upgrade langchain langchain-experimental langchain-openai python-dotenv pyvis wikipedia\n"
   ]
  },
  {
   "cell_type": "markdown",
   "id": "9712d865",
   "metadata": {},
   "source": [
    "## load API key and verify on which pythono we are running."
   ]
  },
  {
   "cell_type": "code",
   "execution_count": 44,
   "id": "9d82a180",
   "metadata": {},
   "outputs": [
    {
     "name": "stdout",
     "output_type": "stream",
     "text": [
      "c:\\Python312\\python.exe\n"
     ]
    }
   ],
   "source": [
    "from dotenv import load_dotenv\n",
    "import os\n",
    "import sys\n",
    "\n",
    "# Print the Python executable path\n",
    "print(sys.executable)\n",
    "\n",
    "# Load the .env file\n",
    "load_dotenv()\n",
    "# Get API key from environment variable \n",
    "# (make sure the key is present in .env file in the project directory)\n",
    "api_key = os.getenv(\"OPENAI_API_KEY\")"
   ]
  },
  {
   "cell_type": "markdown",
   "id": "4d2b0326",
   "metadata": {},
   "source": [
    "## Connect langchain to OpenAI gpt-4o for structured output."
   ]
  },
  {
   "cell_type": "code",
   "execution_count": 45,
   "id": "71114f6d",
   "metadata": {},
   "outputs": [],
   "source": [
    "from langchain_experimental.graph_transformers import LLMGraphTransformer\n",
    "from langchain_core.documents import Document\n",
    "from langchain_openai import ChatOpenAI\n",
    "\n",
    "llm = ChatOpenAI(temperature=0, model_name=\"gpt-4o\",)\n",
    "\n",
    "graph_transformer = LLMGraphTransformer(llm=llm)"
   ]
  },
  {
   "cell_type": "markdown",
   "id": "d252ef54",
   "metadata": {},
   "source": [
    "## access wikipedia and grab a few articles. \n",
    "here we had a problem with the page of Alber Camus ! impossible to load through his name ! se I use pageid."
   ]
  },
  {
   "cell_type": "code",
   "execution_count": null,
   "id": "9435c832",
   "metadata": {},
   "outputs": [
    {
     "name": "stdout",
     "output_type": "stream",
     "text": [
      "Jean-Paul Charles Aymard Sartre (, US also ; French: [saʁtʁ]; 21 June 1905 – 15 April 1980) was a French philosopher, playwright, novelist, screenwriter, political activist, biographer, and literary critic, considered a leading figure in 20th-century French philosophy and Marxism. Sartre was one of the key figures in the philosophy of existentialism (and phenomenology). His work has influenced sociology, critical theory, post-colonial theory, and literary studies. He was awarded the 1964 Nobel P\n",
      "Albert Camus ( ka-MOO; French: [albɛʁ kamy] ; 7 November 1913 – 4 January 1960) was a French philosopher, author, dramatist, journalist, world federalist, and political activist. He was the recipient of the 1957 Nobel Prize in Literature at the age of 44, the second-youngest recipient in history. His works include The Stranger, The Plague, The Myth of Sisyphus, The Fall and The Rebel.\n",
      "Camus was born in French Algeria to pied-noir parents. He spent his childhood in a poor neighbourhood and later \n"
     ]
    }
   ],
   "source": [
    "# Importing the Wikipedia library\n",
    "import wikipedia\n",
    "\n",
    "# Read Wikipedia page for Jean-Paul Sartre\n",
    "sartre_summary = wikipedia.page(\"Jean-Paul Sartre\").content\n",
    "\n",
    "# save the summary to a file\n",
    "with open(\"wikipedia_sartre.txt\", \"w\", encoding=\"utf-8\") as f:\n",
    "    f.write(sartre_summary)\n",
    "\n",
    "print(sartre_summary[:500]) \n",
    "\n",
    "# Read Wikipedia page for Albert Camus\n",
    "pageids = wikipedia.search(\"Albert Camus\")\n",
    "if not pageids:\n",
    "    raise ValueError(\"No page found for Albert Camus\")\n",
    "# Albert Camus Page can not be retreivd !\n",
    "camus_summary = wikipedia.page(pageid=983).content\n",
    "\n",
    "# save the summary to a file\n",
    "with open(\"wikipedia_camus.txt\", \"w\", encoding=\"utf-8\") as f:\n",
    "    f.write(camus_summary)\n",
    "\n",
    "# Print the first 500 characters of the summaries\n",
    "print(camus_summary[:500])\n"
   ]
  },
  {
   "cell_type": "markdown",
   "id": "fd50c8a0",
   "metadata": {},
   "source": [
    "## convert the text document to a graph\n",
    "here we use langchain transformers to extract a graph structured format of ourt text."
   ]
  },
  {
   "cell_type": "code",
   "execution_count": 47,
   "id": "90ce19ce",
   "metadata": {},
   "outputs": [],
   "source": [
    "documents = [Document(page_content=camus_summary)]\n",
    "graph_documents = await graph_transformer.aconvert_to_graph_documents(documents)"
   ]
  },
  {
   "cell_type": "markdown",
   "id": "cde46957",
   "metadata": {},
   "source": [
    "## print the generated graph in text format"
   ]
  },
  {
   "cell_type": "code",
   "execution_count": 48,
   "id": "845aef7e",
   "metadata": {},
   "outputs": [
    {
     "name": "stdout",
     "output_type": "stream",
     "text": [
      "NODES:\n",
      "[{'id': 'Albert Camus', 'properties': {}, 'type': 'Person'},\n",
      " {'id': 'Catherine Hélène Camus', 'properties': {}, 'type': 'Person'},\n",
      " {'id': 'Lucien Camus', 'properties': {}, 'type': 'Person'},\n",
      " {'id': 'Louis Germain', 'properties': {}, 'type': 'Person'},\n",
      " {'id': 'Jean Grenier', 'properties': {}, 'type': 'Person'},\n",
      " {'id': 'Simone Hié', 'properties': {}, 'type': 'Person'},\n",
      " {'id': 'Francine Faure', 'properties': {}, 'type': 'Person'},\n",
      " {'id': 'Jean-Paul Sartre', 'properties': {}, 'type': 'Person'},\n",
      " {'id': 'María Casares', 'properties': {}, 'type': 'Person'},\n",
      " {'id': 'Michel Gallimard', 'properties': {}, 'type': 'Person'},\n",
      " {'id': 'Nobel Prize In Literature', 'properties': {}, 'type': 'Award'},\n",
      " {'id': 'The Stranger', 'properties': {}, 'type': 'Literary work'},\n",
      " {'id': 'The Plague', 'properties': {}, 'type': 'Literary work'},\n",
      " {'id': 'The Myth Of Sisyphus', 'properties': {}, 'type': 'Literary work'},\n",
      " {'id': 'The Fall', 'properties': {}, 'type': 'Literary work'},\n",
      " {'id': 'The Rebel', 'properties': {}, 'type': 'Literary work'},\n",
      " {'id': 'French Resistance', 'properties': {}, 'type': 'Organization'},\n",
      " {'id': 'Combat', 'properties': {}, 'type': 'Newspaper'},\n",
      " {'id': 'Absurdism', 'properties': {}, 'type': 'Philosophy'},\n",
      " {'id': 'Existentialism', 'properties': {}, 'type': 'Philosophy'},\n",
      " {'id': 'Anarcho-Syndicalism', 'properties': {}, 'type': 'Philosophy'},\n",
      " {'id': 'University Of Algiers', 'properties': {}, 'type': 'Organization'},\n",
      " {'id': \"Racing Universitaire D'Alger\",\n",
      "  'properties': {},\n",
      "  'type': 'Organization'},\n",
      " {'id': 'French Communist Party', 'properties': {}, 'type': 'Organization'},\n",
      " {'id': 'Alger Républicain', 'properties': {}, 'type': 'Newspaper'},\n",
      " {'id': 'Paris-Soir', 'properties': {}, 'type': 'Newspaper'},\n",
      " {'id': 'Algerian Communist Party', 'properties': {}, 'type': 'Organization'},\n",
      " {'id': 'Théâtre Du Travail', 'properties': {}, 'type': 'Organization'},\n",
      " {'id': \"Théâtre De L'Equipe\", 'properties': {}, 'type': 'Organization'},\n",
      " {'id': 'Algerian War', 'properties': {}, 'type': 'Event'},\n",
      " {'id': 'World War Ii', 'properties': {}, 'type': 'Event'},\n",
      " {'id': 'French Committee For The European Federation',\n",
      "  'properties': {},\n",
      "  'type': 'Organization'},\n",
      " {'id': 'Groupes De Liaison Internationale',\n",
      "  'properties': {},\n",
      "  'type': 'Organization'},\n",
      " {'id': \"Peoples' World Convention\", 'properties': {}, 'type': 'Event'},\n",
      " {'id': 'Lourmarin Cemetery', 'properties': {}, 'type': 'Location'},\n",
      " {'id': 'Lourmarin', 'properties': {}, 'type': 'Location'},\n",
      " {'id': 'Villeblevin', 'properties': {}, 'type': 'Location'},\n",
      " {'id': 'Mondovi', 'properties': {}, 'type': 'Location'},\n",
      " {'id': 'Algeria', 'properties': {}, 'type': 'Location'},\n",
      " {'id': 'France', 'properties': {}, 'type': 'Location'},\n",
      " {'id': 'Pied-Noir', 'properties': {}, 'type': 'Ethnicity'},\n",
      " {'id': 'Tuberculosis', 'properties': {}, 'type': 'Disease'},\n",
      " {'id': 'Football', 'properties': {}, 'type': 'Sport'},\n",
      " {'id': 'Philosophy', 'properties': {}, 'type': 'Field'},\n",
      " {'id': 'Journalism', 'properties': {}, 'type': 'Field'},\n",
      " {'id': 'Literature', 'properties': {}, 'type': 'Field'},\n",
      " {'id': 'Drama', 'properties': {}, 'type': 'Field'},\n",
      " {'id': 'Political Activism', 'properties': {}, 'type': 'Field'}]\n",
      "\n",
      "RELATIONSHIPS:\n",
      "[{'source': 'Albert Camus',\n",
      "  'target': 'Catherine Hélène Camus',\n",
      "  'type': 'PARENT'},\n",
      " {'source': 'Albert Camus', 'target': 'Lucien Camus', 'type': 'PARENT'},\n",
      " {'source': 'Albert Camus', 'target': 'Louis Germain', 'type': 'INFLUENCED_BY'},\n",
      " {'source': 'Albert Camus', 'target': 'Jean Grenier', 'type': 'INFLUENCED_BY'},\n",
      " {'source': 'Albert Camus', 'target': 'Simone Hié', 'type': 'SPOUSE'},\n",
      " {'source': 'Albert Camus', 'target': 'Francine Faure', 'type': 'SPOUSE'},\n",
      " {'source': 'Albert Camus', 'target': 'Jean-Paul Sartre', 'type': 'FRIEND'},\n",
      " {'source': 'Albert Camus', 'target': 'María Casares', 'type': 'AFFAIR'},\n",
      " {'source': 'Albert Camus', 'target': 'Michel Gallimard', 'type': 'FRIEND'},\n",
      " {'source': 'Albert Camus',\n",
      "  'target': 'Nobel Prize In Literature',\n",
      "  'type': 'RECIPIENT'},\n",
      " {'source': 'Albert Camus', 'target': 'The Stranger', 'type': 'AUTHOR'},\n",
      " {'source': 'Albert Camus', 'target': 'The Plague', 'type': 'AUTHOR'},\n",
      " {'source': 'Albert Camus', 'target': 'The Myth Of Sisyphus', 'type': 'AUTHOR'},\n",
      " {'source': 'Albert Camus', 'target': 'The Fall', 'type': 'AUTHOR'},\n",
      " {'source': 'Albert Camus', 'target': 'The Rebel', 'type': 'AUTHOR'},\n",
      " {'source': 'Albert Camus', 'target': 'French Resistance', 'type': 'MEMBER'},\n",
      " {'source': 'Albert Camus', 'target': 'Combat', 'type': 'EDITOR'},\n",
      " {'source': 'Albert Camus', 'target': 'Absurdism', 'type': 'CONTRIBUTED_TO'},\n",
      " {'source': 'Albert Camus',\n",
      "  'target': 'Existentialism',\n",
      "  'type': 'ASSOCIATED_WITH'},\n",
      " {'source': 'Albert Camus',\n",
      "  'target': 'Anarcho-Syndicalism',\n",
      "  'type': 'ASSOCIATED_WITH'},\n",
      " {'source': 'Albert Camus',\n",
      "  'target': 'University Of Algiers',\n",
      "  'type': 'ALUMNUS'},\n",
      " {'source': 'Albert Camus',\n",
      "  'target': \"Racing Universitaire D'Alger\",\n",
      "  'type': 'MEMBER'},\n",
      " {'source': 'Albert Camus',\n",
      "  'target': 'French Communist Party',\n",
      "  'type': 'MEMBER'},\n",
      " {'source': 'Albert Camus',\n",
      "  'target': 'Alger Républicain',\n",
      "  'type': 'JOURNALIST'},\n",
      " {'source': 'Albert Camus', 'target': 'Paris-Soir', 'type': 'JOURNALIST'},\n",
      " {'source': 'Albert Camus',\n",
      "  'target': 'Algerian Communist Party',\n",
      "  'type': 'MEMBER'},\n",
      " {'source': 'Albert Camus', 'target': 'Théâtre Du Travail', 'type': 'FOUNDER'},\n",
      " {'source': 'Albert Camus', 'target': \"Théâtre De L'Equipe\", 'type': 'FOUNDER'},\n",
      " {'source': 'Albert Camus', 'target': 'Algerian War', 'type': 'INVOLVED_IN'},\n",
      " {'source': 'Albert Camus', 'target': 'World War Ii', 'type': 'INVOLVED_IN'},\n",
      " {'source': 'Albert Camus',\n",
      "  'target': 'French Committee For The European Federation',\n",
      "  'type': 'FOUNDER'},\n",
      " {'source': 'Albert Camus',\n",
      "  'target': 'Groupes De Liaison Internationale',\n",
      "  'type': 'FOUNDER'},\n",
      " {'source': 'Albert Camus',\n",
      "  'target': \"Peoples' World Convention\",\n",
      "  'type': 'SPONSOR'},\n",
      " {'source': 'Albert Camus',\n",
      "  'target': 'Lourmarin Cemetery',\n",
      "  'type': 'BURIED_IN'},\n",
      " {'source': 'Albert Camus', 'target': 'Lourmarin', 'type': 'LIVED_IN'},\n",
      " {'source': 'Albert Camus', 'target': 'Villeblevin', 'type': 'DIED_IN'},\n",
      " {'source': 'Albert Camus', 'target': 'Mondovi', 'type': 'BORN_IN'},\n",
      " {'source': 'Albert Camus', 'target': 'Algeria', 'type': 'LIVED_IN'},\n",
      " {'source': 'Albert Camus', 'target': 'France', 'type': 'CITIZEN'},\n",
      " {'source': 'Albert Camus', 'target': 'Pied-Noir', 'type': 'ETHNICITY'},\n",
      " {'source': 'Albert Camus', 'target': 'Tuberculosis', 'type': 'DIAGNOSED_WITH'},\n",
      " {'source': 'Albert Camus', 'target': 'Football', 'type': 'PLAYED'},\n",
      " {'source': 'Albert Camus', 'target': 'Philosophy', 'type': 'CONTRIBUTED_TO'},\n",
      " {'source': 'Albert Camus', 'target': 'Journalism', 'type': 'CONTRIBUTED_TO'},\n",
      " {'source': 'Albert Camus', 'target': 'Literature', 'type': 'CONTRIBUTED_TO'},\n",
      " {'source': 'Albert Camus', 'target': 'Drama', 'type': 'CONTRIBUTED_TO'},\n",
      " {'source': 'Albert Camus',\n",
      "  'target': 'Political Activism',\n",
      "  'type': 'CONTRIBUTED_TO'}]\n"
     ]
    }
   ],
   "source": [
    "from pprint import pprint\n",
    "\n",
    "# For displaying nodes\n",
    "print(\"NODES:\")\n",
    "pprint([{\"id\": node.id, \"type\": node.type, \"properties\": node.properties} for node in graph_documents[0].nodes])\n",
    "\n",
    "# For displaying relationships\n",
    "print(\"\\nRELATIONSHIPS:\")\n",
    "pprint([{\n",
    "    \"source\": rel.source.id,\n",
    "    \"type\": rel.type,\n",
    "    \"target\": rel.target.id\n",
    "} for rel in graph_documents[0].relationships])"
   ]
  },
  {
   "cell_type": "markdown",
   "id": "b659255d",
   "metadata": {},
   "source": [
    "# using pyvis draw the graph\n",
    "## here we introduce a function to display the graph ina nice interactive html."
   ]
  },
  {
   "cell_type": "code",
   "execution_count": 55,
   "id": "beeddf22",
   "metadata": {},
   "outputs": [],
   "source": [
    "from pyvis.network import Network\n",
    "\n",
    "def visualize_graph(graph_documents, output_file=\"knowledge_graph.html\"):\n",
    "    # Create network\n",
    "    net = Network(height=\"1200px\", width=\"100%\", directed=True,\n",
    "                      notebook=False, bgcolor=\"#222222\", font_color=\"white\")\n",
    "    \n",
    "    nodes = graph_documents[0].nodes\n",
    "    relationships = graph_documents[0].relationships\n",
    "\n",
    "    # Build lookup for valid nodes\n",
    "    node_dict = {node.id: node for node in nodes}\n",
    "    \n",
    "    # Filter out invalid edges and collect valid node IDs\n",
    "    valid_edges = []\n",
    "    valid_node_ids = set()\n",
    "    for rel in relationships:\n",
    "        if rel.source.id in node_dict and rel.target.id in node_dict:\n",
    "            valid_edges.append(rel)\n",
    "            valid_node_ids.update([rel.source.id, rel.target.id])\n",
    "\n",
    "\n",
    "    # Track which nodes are part of any relationship\n",
    "    connected_node_ids = set()\n",
    "    for rel in relationships:\n",
    "        connected_node_ids.add(rel.source.id)\n",
    "        connected_node_ids.add(rel.target.id)\n",
    "\n",
    "    # Add valid nodes\n",
    "    for node_id in valid_node_ids:\n",
    "        node = node_dict[node_id]\n",
    "        try:\n",
    "            net.add_node(node.id, label=node.id, title=node.type, group=node.type)\n",
    "        except:\n",
    "            continue  # skip if error\n",
    "\n",
    "    # Add valid edges\n",
    "    for rel in valid_edges:\n",
    "        try:\n",
    "            net.add_edge(rel.source.id, rel.target.id, label=rel.type.lower())\n",
    "        except:\n",
    "            continue  # skip if error\n",
    "\n",
    "    # Configure physics\n",
    "    net.set_options(\"\"\"\n",
    "            {\n",
    "                \"physics\": {\n",
    "                    \"forceAtlas2Based\": {\n",
    "                        \"gravitationalConstant\": -100,\n",
    "                        \"centralGravity\": 0.01,\n",
    "                        \"springLength\": 200,\n",
    "                        \"springConstant\": 0.08\n",
    "                    },\n",
    "                    \"minVelocity\": 0.75,\n",
    "                    \"solver\": \"forceAtlas2Based\"\n",
    "                }\n",
    "            }\n",
    "            \"\"\")\n",
    "        \n",
    "    net.save_graph(output_file)\n",
    "    print(f\"Graph saved to {os.path.abspath(output_file)}\")\n",
    "\n",
    "    # Try to open in browser\n",
    "    try:\n",
    "        import webbrowser\n",
    "        webbrowser.open(f\"file://{os.path.abspath(output_file)}\")\n",
    "    except:\n",
    "        print(\"Could not open browser automatically\")\n"
   ]
  },
  {
   "cell_type": "markdown",
   "id": "ab4bbe03",
   "metadata": {},
   "source": [
    "## use the function to draw the graph"
   ]
  },
  {
   "cell_type": "code",
   "execution_count": 54,
   "id": "900415f2",
   "metadata": {},
   "outputs": [
    {
     "name": "stdout",
     "output_type": "stream",
     "text": [
      "Graph saved to d:\\Users\\makbar\\OneDrive - Rayonnance Technologies\\0.Rayonnance\\0.AI\\knowledge-graph\\knowledge_graph.html\n"
     ]
    }
   ],
   "source": [
    "        \n",
    "# Run the function\n",
    "visualize_graph(graph_documents)"
   ]
  },
  {
   "cell_type": "markdown",
   "id": "7512e41f",
   "metadata": {},
   "source": [
    "## adding filters for nodes and relationships of interest"
   ]
  },
  {
   "cell_type": "code",
   "execution_count": 50,
   "id": "48344a01",
   "metadata": {},
   "outputs": [],
   "source": [
    "allowed_nodes = [\"Person\", \"Location\", \"Award\", \"BornIn\", \"Organization\", \"ResearchField\"]\n",
    "allowed_relationships = [\n",
    "    (\"Person\", \"WORKS_AT\", \"Organization\"),\n",
    "    (\"Person\", \"SPOUSE\", \"Person\"),\n",
    "    (\"Person\", \"AWARD\", \"Award\"),\n",
    "    (\"Organization\", \"IN_LOCATION\", \"Location\"),\n",
    "    (\"Person\", \"FIELD_OF_RESEARCH\", \"ResearchField\")\n",
    "]\n",
    "graph_transformer_rel_defined = LLMGraphTransformer(\n",
    "  llm=llm,\n",
    "  allowed_nodes=allowed_nodes,\n",
    "  allowed_relationships=allowed_relationships\n",
    ")\n",
    "graph_documents_rel_defined = await graph_transformer_rel_defined.aconvert_to_graph_documents(documents)"
   ]
  },
  {
   "cell_type": "markdown",
   "id": "ae4a1a55",
   "metadata": {},
   "source": [
    "## drawing filtered network"
   ]
  },
  {
   "cell_type": "code",
   "execution_count": 51,
   "id": "877955a7",
   "metadata": {},
   "outputs": [
    {
     "name": "stdout",
     "output_type": "stream",
     "text": [
      "Graph saved to d:\\Users\\makbar\\OneDrive - Rayonnance Technologies\\0.Rayonnance\\0.AI\\knowledge-graph\\knowledge_graph_restricted.html\n"
     ]
    }
   ],
   "source": [
    "# Visualize graph\n",
    "visualize_graph(graph_documents_rel_defined, output_file=\"knowledge_graph_restricted.html\")"
   ]
  }
 ],
 "metadata": {
  "kernelspec": {
   "display_name": "Python 3",
   "language": "python",
   "name": "python3"
  },
  "language_info": {
   "codemirror_mode": {
    "name": "ipython",
    "version": 3
   },
   "file_extension": ".py",
   "mimetype": "text/x-python",
   "name": "python",
   "nbconvert_exporter": "python",
   "pygments_lexer": "ipython3",
   "version": "3.12.10"
  }
 },
 "nbformat": 4,
 "nbformat_minor": 5
}
