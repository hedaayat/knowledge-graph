{
 "cells": [
  {
   "cell_type": "code",
   "execution_count": null,
   "id": "96cba79a",
   "metadata": {},
   "outputs": [
    {
     "name": "stdout",
     "output_type": "stream",
     "text": [
      "c:\\Python312\\python.exe\n"
     ]
    }
   ],
   "source": []
  },
  {
   "cell_type": "code",
   "execution_count": 18,
   "id": "d79e633b",
   "metadata": {},
   "outputs": [
    {
     "name": "stdout",
     "output_type": "stream",
     "text": [
      "Note: you may need to restart the kernel to use updated packages.\n"
     ]
    },
    {
     "name": "stderr",
     "output_type": "stream",
     "text": [
      "ERROR: Invalid requirement: '%pip': Expected package name at the start of dependency specifier\n",
      "    %pip\n",
      "    ^\n"
     ]
    }
   ],
   "source": [
    "%pip install --user --upgrade langchain langchain-experimental langchain-openai python-dotenv pyvis %pip wikipedia\n"
   ]
  },
  {
   "cell_type": "code",
   "execution_count": null,
   "id": "9d82a180",
   "metadata": {},
   "outputs": [],
   "source": [
    "from dotenv import load_dotenv\n",
    "import os\n",
    "import sys\n",
    "\n",
    "# Print the Python executable path\n",
    "print(sys.executable)\n",
    "\n",
    "# Load the .env file\n",
    "load_dotenv()\n",
    "# Get API key from environment variable \n",
    "# (make sure the key is present in .env file in the project directory)\n",
    "api_key = os.getenv(\"OPENAI_API_KEY\")"
   ]
  },
  {
   "cell_type": "code",
   "execution_count": 36,
   "id": "71114f6d",
   "metadata": {},
   "outputs": [],
   "source": [
    "from langchain_experimental.graph_transformers import LLMGraphTransformer\n",
    "from langchain_core.documents import Document\n",
    "from langchain_openai import ChatOpenAI\n",
    "\n",
    "llm = ChatOpenAI(temperature=0, model_name=\"gpt-4o\",)\n",
    "\n",
    "graph_transformer = LLMGraphTransformer(llm=llm)"
   ]
  },
  {
   "cell_type": "code",
   "execution_count": 34,
   "id": "9435c832",
   "metadata": {},
   "outputs": [
    {
     "name": "stdout",
     "output_type": "stream",
     "text": [
      "Jean-Paul Charles Aymard Sartre (, US also ; French: [saʁtʁ]; 21 June 1905 – 15 April 1980) was a French philosopher, playwright, novelist, screenwriter, political activist, biographer, and literary critic, considered a leading figure in 20th-century French philosophy and Marxism. Sartre was one of the key figures in the philosophy of existentialism (and phenomenology). His work has influenced sociology, critical theory, post-colonial theory, and literary studies. He was awarded the 1964 Nobel P\n",
      "Albert Camus ( ka-MOO; French: [albɛʁ kamy] ; 7 November 1913 – 4 January 1960) was a French philosopher, author, dramatist, journalist, world federalist, and political activist. He was the recipient of the 1957 Nobel Prize in Literature at the age of 44, the second-youngest recipient in history. His works include The Stranger, The Plague, The Myth of Sisyphus, The Fall and The Rebel.\n",
      "Camus was born in French Algeria to pied-noir parents. He spent his childhood in a poor neighbourhood and later \n"
     ]
    }
   ],
   "source": [
    "# Importing the Wikipedia library\n",
    "import wikipedia\n",
    "\n",
    "# Read Wikipedia page for Jean-Paul Sartre\n",
    "sartre_summary = wikipedia.page(\"Jean-Paul Sartre\").content\n",
    "\n",
    "with open(\"wikipedia_sartre.txt\", \"w\", encoding=\"utf-8\") as f:\n",
    "    f.write(sartre_summary)\n",
    "\n",
    "print(sartre_summary[:500]) \n",
    "\n",
    "# Read Wikipedia page for Albert Camus\n",
    "pageids = wikipedia.search(\"Albert Camus\")\n",
    "if not pageids:\n",
    "    raise ValueError(\"No page found for Albert Camus\")\n",
    "# Albert Camus Page can not be retreivd !\n",
    "camus_summary = wikipedia.page(pageid=983).content\n",
    "\n",
    "with open(\"wikipedia_camus.txt\", \"w\", encoding=\"utf-8\") as f:\n",
    "    f.write(camus_summary)\n",
    "\n",
    "print(camus_summary[:500])\n"
   ]
  },
  {
   "cell_type": "code",
   "execution_count": 37,
   "id": "90ce19ce",
   "metadata": {},
   "outputs": [],
   "source": [
    "documents = [Document(page_content=camus_summary)]\n",
    "graph_documents = await graph_transformer.aconvert_to_graph_documents(documents)"
   ]
  },
  {
   "cell_type": "code",
   "execution_count": 42,
   "id": "845aef7e",
   "metadata": {},
   "outputs": [
    {
     "name": "stdout",
     "output_type": "stream",
     "text": [
      "NODES:\n",
      "[{'id': 'Albert Camus', 'properties': {}, 'type': 'Person'},\n",
      " {'id': 'Catherine Hélène Camus', 'properties': {}, 'type': 'Person'},\n",
      " {'id': 'Lucien Camus', 'properties': {}, 'type': 'Person'},\n",
      " {'id': 'Louis Germain', 'properties': {}, 'type': 'Person'},\n",
      " {'id': 'Jean Grenier', 'properties': {}, 'type': 'Person'},\n",
      " {'id': 'Simone Hié', 'properties': {}, 'type': 'Person'},\n",
      " {'id': 'Francine Faure', 'properties': {}, 'type': 'Person'},\n",
      " {'id': 'Jean-Paul Sartre', 'properties': {}, 'type': 'Person'},\n",
      " {'id': 'María Casares', 'properties': {}, 'type': 'Person'},\n",
      " {'id': 'Michel Gallimard', 'properties': {}, 'type': 'Person'},\n",
      " {'id': 'Nobel Prize In Literature', 'properties': {}, 'type': 'Award'},\n",
      " {'id': 'The Stranger', 'properties': {}, 'type': 'Literary work'},\n",
      " {'id': 'The Plague', 'properties': {}, 'type': 'Literary work'},\n",
      " {'id': 'The Myth Of Sisyphus', 'properties': {}, 'type': 'Literary work'},\n",
      " {'id': 'The Fall', 'properties': {}, 'type': 'Literary work'},\n",
      " {'id': 'The Rebel', 'properties': {}, 'type': 'Literary work'},\n",
      " {'id': 'Absurdism', 'properties': {}, 'type': 'Philosophy'},\n",
      " {'id': 'Existentialism', 'properties': {}, 'type': 'Philosophy'},\n",
      " {'id': 'French Resistance', 'properties': {}, 'type': 'Organization'},\n",
      " {'id': 'Combat', 'properties': {}, 'type': 'Newspaper'},\n",
      " {'id': 'University Of Algiers', 'properties': {}, 'type': 'Organization'},\n",
      " {'id': 'French Communist Party', 'properties': {}, 'type': 'Organization'},\n",
      " {'id': 'Alger Républicain', 'properties': {}, 'type': 'Newspaper'},\n",
      " {'id': 'Paris-Soir', 'properties': {}, 'type': 'Newspaper'},\n",
      " {'id': 'Algerian War', 'properties': {}, 'type': 'Event'},\n",
      " {'id': 'World War Ii', 'properties': {}, 'type': 'Event'},\n",
      " {'id': 'Lourmarin Cemetery', 'properties': {}, 'type': 'Location'},\n",
      " {'id': \"L'Étranger\", 'properties': {}, 'type': 'Literary work'},\n",
      " {'id': 'Le Mythe De Sisyphe', 'properties': {}, 'type': 'Literary work'},\n",
      " {'id': 'Caligula', 'properties': {}, 'type': 'Literary work'},\n",
      " {'id': 'La Peste', 'properties': {}, 'type': 'Literary work'},\n",
      " {'id': \"L'Homme Révolté\", 'properties': {}, 'type': 'Literary work'},\n",
      " {'id': 'Les Justes', 'properties': {}, 'type': 'Literary work'},\n",
      " {'id': 'Nemesis', 'properties': {}, 'type': 'Literary work'},\n",
      " {'id': 'La Mort Heureuse', 'properties': {}, 'type': 'Literary work'},\n",
      " {'id': 'Le Premier Homme', 'properties': {}, 'type': 'Literary work'},\n",
      " {'id': 'Christian Metaphysics And Neoplatonism',\n",
      "  'properties': {},\n",
      "  'type': 'Academic thesis'},\n",
      " {'id': \"L'Envers Et L'Endroit\", 'properties': {}, 'type': 'Literary work'},\n",
      " {'id': 'Noces', 'properties': {}, 'type': 'Literary work'},\n",
      " {'id': 'Chroniques Algériennes', 'properties': {}, 'type': 'Literary work'},\n",
      " {'id': 'Resistance, Rebellion, And Death',\n",
      "  'properties': {},\n",
      "  'type': 'Literary work'},\n",
      " {'id': 'Carnets', 'properties': {}, 'type': 'Literary work'},\n",
      " {'id': 'Lyrical And Critical Essays',\n",
      "  'properties': {},\n",
      "  'type': 'Literary work'},\n",
      " {'id': 'Journaux De Voyage', 'properties': {}, 'type': 'Literary work'},\n",
      " {'id': 'Caligula (Play)', 'properties': {}, 'type': 'Play'},\n",
      " {'id': 'Le Malentendu', 'properties': {}, 'type': 'Play'},\n",
      " {'id': \"L'État De Siège\", 'properties': {}, 'type': 'Play'},\n",
      " {'id': 'Les Possédés', 'properties': {}, 'type': 'Play'},\n",
      " {'id': 'Requiem Pour Une Nonne', 'properties': {}, 'type': 'Play'},\n",
      " {'id': 'The Crisis Of Man', 'properties': {}, 'type': 'Essay'},\n",
      " {'id': 'Neither Victims Nor Executioners', 'properties': {}, 'type': 'Essay'},\n",
      " {'id': 'Why Spain?', 'properties': {}, 'type': 'Essay'},\n",
      " {'id': \"L'Été\", 'properties': {}, 'type': 'Essay'},\n",
      " {'id': 'Réflexions Sur La Guillotine', 'properties': {}, 'type': 'Essay'},\n",
      " {'id': 'Create Dangerously', 'properties': {}, 'type': 'Essay'}]\n",
      "\n",
      "RELATIONSHIPS:\n",
      "[{'source': 'Albert Camus',\n",
      "  'target': 'Catherine Hélène Camus',\n",
      "  'type': 'MOTHER'},\n",
      " {'source': 'Albert Camus', 'target': 'Lucien Camus', 'type': 'FATHER'},\n",
      " {'source': 'Albert Camus', 'target': 'Louis Germain', 'type': 'MENTOR'},\n",
      " {'source': 'Albert Camus', 'target': 'Jean Grenier', 'type': 'MENTOR'},\n",
      " {'source': 'Albert Camus', 'target': 'Simone Hié', 'type': 'SPOUSE'},\n",
      " {'source': 'Albert Camus', 'target': 'Francine Faure', 'type': 'SPOUSE'},\n",
      " {'source': 'Albert Camus', 'target': 'Jean-Paul Sartre', 'type': 'FRIEND'},\n",
      " {'source': 'Albert Camus', 'target': 'María Casares', 'type': 'AFFAIR'},\n",
      " {'source': 'Albert Camus', 'target': 'Michel Gallimard', 'type': 'FRIEND'},\n",
      " {'source': 'Albert Camus',\n",
      "  'target': 'Nobel Prize In Literature',\n",
      "  'type': 'RECIPIENT'},\n",
      " {'source': 'Albert Camus', 'target': 'The Stranger', 'type': 'AUTHOR'},\n",
      " {'source': 'Albert Camus', 'target': 'The Plague', 'type': 'AUTHOR'},\n",
      " {'source': 'Albert Camus', 'target': 'The Myth Of Sisyphus', 'type': 'AUTHOR'},\n",
      " {'source': 'Albert Camus', 'target': 'The Fall', 'type': 'AUTHOR'},\n",
      " {'source': 'Albert Camus', 'target': 'The Rebel', 'type': 'AUTHOR'},\n",
      " {'source': 'Albert Camus', 'target': 'Absurdism', 'type': 'CONTRIBUTOR'},\n",
      " {'source': 'Albert Camus', 'target': 'Existentialism', 'type': 'ASSOCIATED'},\n",
      " {'source': 'Albert Camus', 'target': 'French Resistance', 'type': 'MEMBER'},\n",
      " {'source': 'Albert Camus', 'target': 'Combat', 'type': 'EDITOR'},\n",
      " {'source': 'Albert Camus',\n",
      "  'target': 'University Of Algiers',\n",
      "  'type': 'ALUMNUS'},\n",
      " {'source': 'Albert Camus',\n",
      "  'target': 'French Communist Party',\n",
      "  'type': 'MEMBER'},\n",
      " {'source': 'Albert Camus',\n",
      "  'target': 'Alger Républicain',\n",
      "  'type': 'JOURNALIST'},\n",
      " {'source': 'Albert Camus', 'target': 'Paris-Soir', 'type': 'JOURNALIST'},\n",
      " {'source': 'Albert Camus', 'target': 'Algerian War', 'type': 'PARTICIPANT'},\n",
      " {'source': 'Albert Camus', 'target': 'World War Ii', 'type': 'PARTICIPANT'},\n",
      " {'source': 'Albert Camus', 'target': 'Lourmarin Cemetery', 'type': 'BURIAL'},\n",
      " {'source': 'Albert Camus', 'target': \"L'Étranger\", 'type': 'AUTHOR'},\n",
      " {'source': 'Albert Camus', 'target': 'Le Mythe De Sisyphe', 'type': 'AUTHOR'},\n",
      " {'source': 'Albert Camus', 'target': 'Caligula', 'type': 'AUTHOR'},\n",
      " {'source': 'Albert Camus', 'target': 'La Peste', 'type': 'AUTHOR'},\n",
      " {'source': 'Albert Camus', 'target': \"L'Homme Révolté\", 'type': 'AUTHOR'},\n",
      " {'source': 'Albert Camus', 'target': 'Les Justes', 'type': 'AUTHOR'},\n",
      " {'source': 'Albert Camus', 'target': 'Nemesis', 'type': 'AUTHOR'},\n",
      " {'source': 'Albert Camus', 'target': 'La Mort Heureuse', 'type': 'AUTHOR'},\n",
      " {'source': 'Albert Camus', 'target': 'Le Premier Homme', 'type': 'AUTHOR'},\n",
      " {'source': 'Albert Camus',\n",
      "  'target': 'Christian Metaphysics And Neoplatonism',\n",
      "  'type': 'AUTHOR'},\n",
      " {'source': 'Albert Camus',\n",
      "  'target': \"L'Envers Et L'Endroit\",\n",
      "  'type': 'AUTHOR'},\n",
      " {'source': 'Albert Camus', 'target': 'Noces', 'type': 'AUTHOR'},\n",
      " {'source': 'Albert Camus',\n",
      "  'target': 'Chroniques Algériennes',\n",
      "  'type': 'AUTHOR'},\n",
      " {'source': 'Albert Camus',\n",
      "  'target': 'Resistance, Rebellion, And Death',\n",
      "  'type': 'AUTHOR'},\n",
      " {'source': 'Albert Camus', 'target': 'Carnets', 'type': 'AUTHOR'},\n",
      " {'source': 'Albert Camus',\n",
      "  'target': 'Lyrical And Critical Essays',\n",
      "  'type': 'AUTHOR'},\n",
      " {'source': 'Albert Camus', 'target': 'Journaux De Voyage', 'type': 'AUTHOR'},\n",
      " {'source': 'Albert Camus', 'target': 'Caligula (Play)', 'type': 'AUTHOR'},\n",
      " {'source': 'Albert Camus', 'target': 'Le Malentendu', 'type': 'AUTHOR'},\n",
      " {'source': 'Albert Camus', 'target': \"L'État De Siège\", 'type': 'AUTHOR'},\n",
      " {'source': 'Albert Camus', 'target': 'Les Possédés', 'type': 'AUTHOR'},\n",
      " {'source': 'Albert Camus',\n",
      "  'target': 'Requiem Pour Une Nonne',\n",
      "  'type': 'AUTHOR'},\n",
      " {'source': 'Albert Camus', 'target': 'The Crisis Of Man', 'type': 'AUTHOR'},\n",
      " {'source': 'Albert Camus',\n",
      "  'target': 'Neither Victims Nor Executioners',\n",
      "  'type': 'AUTHOR'},\n",
      " {'source': 'Albert Camus', 'target': 'Why Spain?', 'type': 'AUTHOR'},\n",
      " {'source': 'Albert Camus', 'target': \"L'Été\", 'type': 'AUTHOR'},\n",
      " {'source': 'Albert Camus',\n",
      "  'target': 'Réflexions Sur La Guillotine',\n",
      "  'type': 'AUTHOR'},\n",
      " {'source': 'Albert Camus', 'target': 'Create Dangerously', 'type': 'AUTHOR'}]\n"
     ]
    }
   ],
   "source": [
    "from pprint import pprint\n",
    "\n",
    "# For displaying nodes\n",
    "print(\"NODES:\")\n",
    "pprint([{\"id\": node.id, \"type\": node.type, \"properties\": node.properties} for node in graph_documents[0].nodes])\n",
    "\n",
    "# For displaying relationships\n",
    "print(\"\\nRELATIONSHIPS:\")\n",
    "pprint([{\n",
    "    \"source\": rel.source.id,\n",
    "    \"type\": rel.type,\n",
    "    \"target\": rel.target.id\n",
    "} for rel in graph_documents[0].relationships])"
   ]
  },
  {
   "cell_type": "code",
   "execution_count": 38,
   "id": "067d6746",
   "metadata": {},
   "outputs": [
    {
     "name": "stdout",
     "output_type": "stream",
     "text": [
      "Nodes:[Node(id='Albert Camus', type='Person', properties={}), Node(id='Catherine Hélène Camus', type='Person', properties={}), Node(id='Lucien Camus', type='Person', properties={}), Node(id='Louis Germain', type='Person', properties={}), Node(id='Jean Grenier', type='Person', properties={}), Node(id='Simone Hié', type='Person', properties={}), Node(id='Francine Faure', type='Person', properties={}), Node(id='Jean-Paul Sartre', type='Person', properties={}), Node(id='María Casares', type='Person', properties={}), Node(id='Michel Gallimard', type='Person', properties={}), Node(id='Nobel Prize In Literature', type='Award', properties={}), Node(id='The Stranger', type='Literary work', properties={}), Node(id='The Plague', type='Literary work', properties={}), Node(id='The Myth Of Sisyphus', type='Literary work', properties={}), Node(id='The Fall', type='Literary work', properties={}), Node(id='The Rebel', type='Literary work', properties={}), Node(id='Absurdism', type='Philosophy', properties={}), Node(id='Existentialism', type='Philosophy', properties={}), Node(id='French Resistance', type='Organization', properties={}), Node(id='Combat', type='Newspaper', properties={}), Node(id='University Of Algiers', type='Organization', properties={}), Node(id='French Communist Party', type='Organization', properties={}), Node(id='Alger Républicain', type='Newspaper', properties={}), Node(id='Paris-Soir', type='Newspaper', properties={}), Node(id='Algerian War', type='Event', properties={}), Node(id='World War Ii', type='Event', properties={}), Node(id='Lourmarin Cemetery', type='Location', properties={}), Node(id=\"L'Étranger\", type='Literary work', properties={}), Node(id='Le Mythe De Sisyphe', type='Literary work', properties={}), Node(id='Caligula', type='Literary work', properties={}), Node(id='La Peste', type='Literary work', properties={}), Node(id=\"L'Homme Révolté\", type='Literary work', properties={}), Node(id='Les Justes', type='Literary work', properties={}), Node(id='Nemesis', type='Literary work', properties={}), Node(id='La Mort Heureuse', type='Literary work', properties={}), Node(id='Le Premier Homme', type='Literary work', properties={}), Node(id='Christian Metaphysics And Neoplatonism', type='Academic thesis', properties={}), Node(id=\"L'Envers Et L'Endroit\", type='Literary work', properties={}), Node(id='Noces', type='Literary work', properties={}), Node(id='Chroniques Algériennes', type='Literary work', properties={}), Node(id='Resistance, Rebellion, And Death', type='Literary work', properties={}), Node(id='Carnets', type='Literary work', properties={}), Node(id='Lyrical And Critical Essays', type='Literary work', properties={}), Node(id='Journaux De Voyage', type='Literary work', properties={}), Node(id='Caligula (Play)', type='Play', properties={}), Node(id='Le Malentendu', type='Play', properties={}), Node(id=\"L'État De Siège\", type='Play', properties={}), Node(id='Les Possédés', type='Play', properties={}), Node(id='Requiem Pour Une Nonne', type='Play', properties={}), Node(id='The Crisis Of Man', type='Essay', properties={}), Node(id='Neither Victims Nor Executioners', type='Essay', properties={}), Node(id='Why Spain?', type='Essay', properties={}), Node(id=\"L'Été\", type='Essay', properties={}), Node(id='Réflexions Sur La Guillotine', type='Essay', properties={}), Node(id='Create Dangerously', type='Essay', properties={})]\n",
      "Relationships:[Relationship(source=Node(id='Albert Camus', type='Person', properties={}), target=Node(id='Catherine Hélène Camus', type='Person', properties={}), type='MOTHER', properties={}), Relationship(source=Node(id='Albert Camus', type='Person', properties={}), target=Node(id='Lucien Camus', type='Person', properties={}), type='FATHER', properties={}), Relationship(source=Node(id='Albert Camus', type='Person', properties={}), target=Node(id='Louis Germain', type='Person', properties={}), type='MENTOR', properties={}), Relationship(source=Node(id='Albert Camus', type='Person', properties={}), target=Node(id='Jean Grenier', type='Person', properties={}), type='MENTOR', properties={}), Relationship(source=Node(id='Albert Camus', type='Person', properties={}), target=Node(id='Simone Hié', type='Person', properties={}), type='SPOUSE', properties={}), Relationship(source=Node(id='Albert Camus', type='Person', properties={}), target=Node(id='Francine Faure', type='Person', properties={}), type='SPOUSE', properties={}), Relationship(source=Node(id='Albert Camus', type='Person', properties={}), target=Node(id='Jean-Paul Sartre', type='Person', properties={}), type='FRIEND', properties={}), Relationship(source=Node(id='Albert Camus', type='Person', properties={}), target=Node(id='María Casares', type='Person', properties={}), type='AFFAIR', properties={}), Relationship(source=Node(id='Albert Camus', type='Person', properties={}), target=Node(id='Michel Gallimard', type='Person', properties={}), type='FRIEND', properties={}), Relationship(source=Node(id='Albert Camus', type='Person', properties={}), target=Node(id='Nobel Prize In Literature', type='Award', properties={}), type='RECIPIENT', properties={}), Relationship(source=Node(id='Albert Camus', type='Person', properties={}), target=Node(id='The Stranger', type='Literary work', properties={}), type='AUTHOR', properties={}), Relationship(source=Node(id='Albert Camus', type='Person', properties={}), target=Node(id='The Plague', type='Literary work', properties={}), type='AUTHOR', properties={}), Relationship(source=Node(id='Albert Camus', type='Person', properties={}), target=Node(id='The Myth Of Sisyphus', type='Literary work', properties={}), type='AUTHOR', properties={}), Relationship(source=Node(id='Albert Camus', type='Person', properties={}), target=Node(id='The Fall', type='Literary work', properties={}), type='AUTHOR', properties={}), Relationship(source=Node(id='Albert Camus', type='Person', properties={}), target=Node(id='The Rebel', type='Literary work', properties={}), type='AUTHOR', properties={}), Relationship(source=Node(id='Albert Camus', type='Person', properties={}), target=Node(id='Absurdism', type='Philosophy', properties={}), type='CONTRIBUTOR', properties={}), Relationship(source=Node(id='Albert Camus', type='Person', properties={}), target=Node(id='Existentialism', type='Philosophy', properties={}), type='ASSOCIATED', properties={}), Relationship(source=Node(id='Albert Camus', type='Person', properties={}), target=Node(id='French Resistance', type='Organization', properties={}), type='MEMBER', properties={}), Relationship(source=Node(id='Albert Camus', type='Person', properties={}), target=Node(id='Combat', type='Newspaper', properties={}), type='EDITOR', properties={}), Relationship(source=Node(id='Albert Camus', type='Person', properties={}), target=Node(id='University Of Algiers', type='Organization', properties={}), type='ALUMNUS', properties={}), Relationship(source=Node(id='Albert Camus', type='Person', properties={}), target=Node(id='French Communist Party', type='Organization', properties={}), type='MEMBER', properties={}), Relationship(source=Node(id='Albert Camus', type='Person', properties={}), target=Node(id='Alger Républicain', type='Newspaper', properties={}), type='JOURNALIST', properties={}), Relationship(source=Node(id='Albert Camus', type='Person', properties={}), target=Node(id='Paris-Soir', type='Newspaper', properties={}), type='JOURNALIST', properties={}), Relationship(source=Node(id='Albert Camus', type='Person', properties={}), target=Node(id='Algerian War', type='Event', properties={}), type='PARTICIPANT', properties={}), Relationship(source=Node(id='Albert Camus', type='Person', properties={}), target=Node(id='World War Ii', type='Event', properties={}), type='PARTICIPANT', properties={}), Relationship(source=Node(id='Albert Camus', type='Person', properties={}), target=Node(id='Lourmarin Cemetery', type='Location', properties={}), type='BURIAL', properties={}), Relationship(source=Node(id='Albert Camus', type='Person', properties={}), target=Node(id=\"L'Étranger\", type='Literary work', properties={}), type='AUTHOR', properties={}), Relationship(source=Node(id='Albert Camus', type='Person', properties={}), target=Node(id='Le Mythe De Sisyphe', type='Literary work', properties={}), type='AUTHOR', properties={}), Relationship(source=Node(id='Albert Camus', type='Person', properties={}), target=Node(id='Caligula', type='Literary work', properties={}), type='AUTHOR', properties={}), Relationship(source=Node(id='Albert Camus', type='Person', properties={}), target=Node(id='La Peste', type='Literary work', properties={}), type='AUTHOR', properties={}), Relationship(source=Node(id='Albert Camus', type='Person', properties={}), target=Node(id=\"L'Homme Révolté\", type='Literary work', properties={}), type='AUTHOR', properties={}), Relationship(source=Node(id='Albert Camus', type='Person', properties={}), target=Node(id='Les Justes', type='Literary work', properties={}), type='AUTHOR', properties={}), Relationship(source=Node(id='Albert Camus', type='Person', properties={}), target=Node(id='Nemesis', type='Literary work', properties={}), type='AUTHOR', properties={}), Relationship(source=Node(id='Albert Camus', type='Person', properties={}), target=Node(id='La Mort Heureuse', type='Literary work', properties={}), type='AUTHOR', properties={}), Relationship(source=Node(id='Albert Camus', type='Person', properties={}), target=Node(id='Le Premier Homme', type='Literary work', properties={}), type='AUTHOR', properties={}), Relationship(source=Node(id='Albert Camus', type='Person', properties={}), target=Node(id='Christian Metaphysics And Neoplatonism', type='Academic thesis', properties={}), type='AUTHOR', properties={}), Relationship(source=Node(id='Albert Camus', type='Person', properties={}), target=Node(id=\"L'Envers Et L'Endroit\", type='Literary work', properties={}), type='AUTHOR', properties={}), Relationship(source=Node(id='Albert Camus', type='Person', properties={}), target=Node(id='Noces', type='Literary work', properties={}), type='AUTHOR', properties={}), Relationship(source=Node(id='Albert Camus', type='Person', properties={}), target=Node(id='Chroniques Algériennes', type='Literary work', properties={}), type='AUTHOR', properties={}), Relationship(source=Node(id='Albert Camus', type='Person', properties={}), target=Node(id='Resistance, Rebellion, And Death', type='Literary work', properties={}), type='AUTHOR', properties={}), Relationship(source=Node(id='Albert Camus', type='Person', properties={}), target=Node(id='Carnets', type='Literary work', properties={}), type='AUTHOR', properties={}), Relationship(source=Node(id='Albert Camus', type='Person', properties={}), target=Node(id='Lyrical And Critical Essays', type='Literary work', properties={}), type='AUTHOR', properties={}), Relationship(source=Node(id='Albert Camus', type='Person', properties={}), target=Node(id='Journaux De Voyage', type='Literary work', properties={}), type='AUTHOR', properties={}), Relationship(source=Node(id='Albert Camus', type='Person', properties={}), target=Node(id='Caligula (Play)', type='Play', properties={}), type='AUTHOR', properties={}), Relationship(source=Node(id='Albert Camus', type='Person', properties={}), target=Node(id='Le Malentendu', type='Play', properties={}), type='AUTHOR', properties={}), Relationship(source=Node(id='Albert Camus', type='Person', properties={}), target=Node(id=\"L'État De Siège\", type='Play', properties={}), type='AUTHOR', properties={}), Relationship(source=Node(id='Albert Camus', type='Person', properties={}), target=Node(id='Les Possédés', type='Play', properties={}), type='AUTHOR', properties={}), Relationship(source=Node(id='Albert Camus', type='Person', properties={}), target=Node(id='Requiem Pour Une Nonne', type='Play', properties={}), type='AUTHOR', properties={}), Relationship(source=Node(id='Albert Camus', type='Person', properties={}), target=Node(id='The Crisis Of Man', type='Essay', properties={}), type='AUTHOR', properties={}), Relationship(source=Node(id='Albert Camus', type='Person', properties={}), target=Node(id='Neither Victims Nor Executioners', type='Essay', properties={}), type='AUTHOR', properties={}), Relationship(source=Node(id='Albert Camus', type='Person', properties={}), target=Node(id='Why Spain?', type='Essay', properties={}), type='AUTHOR', properties={}), Relationship(source=Node(id='Albert Camus', type='Person', properties={}), target=Node(id=\"L'Été\", type='Essay', properties={}), type='AUTHOR', properties={}), Relationship(source=Node(id='Albert Camus', type='Person', properties={}), target=Node(id='Réflexions Sur La Guillotine', type='Essay', properties={}), type='AUTHOR', properties={}), Relationship(source=Node(id='Albert Camus', type='Person', properties={}), target=Node(id='Create Dangerously', type='Essay', properties={}), type='AUTHOR', properties={})]\n"
     ]
    }
   ],
   "source": [
    "print(f\"Nodes:{graph_documents[0].nodes}\")\n",
    "print(f\"Relationships:{graph_documents[0].relationships}\")"
   ]
  },
  {
   "cell_type": "code",
   "execution_count": 39,
   "id": "beeddf22",
   "metadata": {},
   "outputs": [
    {
     "name": "stdout",
     "output_type": "stream",
     "text": [
      "Graph saved to d:\\Users\\makbar\\OneDrive - Rayonnance Technologies\\0.Rayonnance\\0.AI\\knowledge-graph\\knowledge_graph.html\n"
     ]
    }
   ],
   "source": [
    "from pyvis.network import Network\n",
    "\n",
    "def visualize_graph(graph_documents, output_file=\"knowledge_graph.html\"):\n",
    "    # Create network\n",
    "    net = Network(height=\"1200px\", width=\"100%\", directed=True,\n",
    "                      notebook=False, bgcolor=\"#222222\", font_color=\"white\")\n",
    "    \n",
    "    nodes = graph_documents[0].nodes\n",
    "    relationships = graph_documents[0].relationships\n",
    "\n",
    "    # Build lookup for valid nodes\n",
    "    node_dict = {node.id: node for node in nodes}\n",
    "    \n",
    "    # Filter out invalid edges and collect valid node IDs\n",
    "    valid_edges = []\n",
    "    valid_node_ids = set()\n",
    "    for rel in relationships:\n",
    "        if rel.source.id in node_dict and rel.target.id in node_dict:\n",
    "            valid_edges.append(rel)\n",
    "            valid_node_ids.update([rel.source.id, rel.target.id])\n",
    "\n",
    "\n",
    "    # Track which nodes are part of any relationship\n",
    "    connected_node_ids = set()\n",
    "    for rel in relationships:\n",
    "        connected_node_ids.add(rel.source.id)\n",
    "        connected_node_ids.add(rel.target.id)\n",
    "\n",
    "    # Add valid nodes\n",
    "    for node_id in valid_node_ids:\n",
    "        node = node_dict[node_id]\n",
    "        try:\n",
    "            net.add_node(node.id, label=node.id, title=node.type, group=node.type)\n",
    "        except:\n",
    "            continue  # skip if error\n",
    "\n",
    "    # Add valid edges\n",
    "    for rel in valid_edges:\n",
    "        try:\n",
    "            net.add_edge(rel.source.id, rel.target.id, label=rel.type.lower())\n",
    "        except:\n",
    "            continue  # skip if error\n",
    "\n",
    "    # Configure physics\n",
    "    net.set_options(\"\"\"\n",
    "            {\n",
    "                \"physics\": {\n",
    "                    \"forceAtlas2Based\": {\n",
    "                        \"gravitationalConstant\": -100,\n",
    "                        \"centralGravity\": 0.01,\n",
    "                        \"springLength\": 200,\n",
    "                        \"springConstant\": 0.08\n",
    "                    },\n",
    "                    \"minVelocity\": 0.75,\n",
    "                    \"solver\": \"forceAtlas2Based\"\n",
    "                }\n",
    "            }\n",
    "            \"\"\")\n",
    "        \n",
    "    net.save_graph(output_file)\n",
    "    print(f\"Graph saved to {os.path.abspath(output_file)}\")\n",
    "\n",
    "    # Try to open in browser\n",
    "    try:\n",
    "        import webbrowser\n",
    "        webbrowser.open(f\"file://{os.path.abspath(output_file)}\")\n",
    "    except:\n",
    "        print(\"Could not open browser automatically\")\n",
    "        \n",
    "# Run the function\n",
    "visualize_graph(graph_documents)"
   ]
  },
  {
   "cell_type": "code",
   "execution_count": 40,
   "id": "48344a01",
   "metadata": {},
   "outputs": [],
   "source": [
    "allowed_nodes = [\"Person\", \"Location\", \"Award\", \"BornIn\", \"Organization\", \"ResearchField\"]\n",
    "allowed_relationships = [\n",
    "    (\"Person\", \"WORKS_AT\", \"Organization\"),\n",
    "    (\"Person\", \"SPOUSE\", \"Person\"),\n",
    "    (\"Person\", \"AWARD\", \"Award\"),\n",
    "    (\"Organization\", \"IN_LOCATION\", \"Location\"),\n",
    "    (\"Person\", \"FIELD_OF_RESEARCH\", \"ResearchField\")\n",
    "]\n",
    "graph_transformer_rel_defined = LLMGraphTransformer(\n",
    "  llm=llm,\n",
    "  allowed_nodes=allowed_nodes,\n",
    "  allowed_relationships=allowed_relationships\n",
    ")\n",
    "graph_documents_rel_defined = await graph_transformer_rel_defined.aconvert_to_graph_documents(documents)"
   ]
  },
  {
   "cell_type": "code",
   "execution_count": 41,
   "id": "877955a7",
   "metadata": {},
   "outputs": [
    {
     "name": "stdout",
     "output_type": "stream",
     "text": [
      "Graph saved to d:\\Users\\makbar\\OneDrive - Rayonnance Technologies\\0.Rayonnance\\0.AI\\knowledge-graph\\knowledge_graph_restricted.html\n"
     ]
    }
   ],
   "source": [
    "# Visualize graph\n",
    "visualize_graph(graph_documents_rel_defined, output_file=\"knowledge_graph_restricted.html\")"
   ]
  }
 ],
 "metadata": {
  "kernelspec": {
   "display_name": "Python 3",
   "language": "python",
   "name": "python3"
  },
  "language_info": {
   "codemirror_mode": {
    "name": "ipython",
    "version": 3
   },
   "file_extension": ".py",
   "mimetype": "text/x-python",
   "name": "python",
   "nbconvert_exporter": "python",
   "pygments_lexer": "ipython3",
   "version": "3.12.10"
  }
 },
 "nbformat": 4,
 "nbformat_minor": 5
}
